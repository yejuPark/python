{
 "cells": [
  {
   "cell_type": "markdown",
   "id": "18d756a8-0518-4955-a32d-7775faee0aac",
   "metadata": {},
   "source": [
    "# 제어문\n",
    "\n",
    "## 조건문 (if)\n",
    "1. `if` 문은 반드시 일정한 참/거짓을 판단할 수 있는 `조건식`과 함께 사용한다. (`if <조건식>:`)\n",
    "2. 2-1. `<조건식>` 이 참인 경우 `:` 이후의 문장을 실행한다.\n",
    "2-2. `<조건식>` 이 거짓인 경우 `else:` 이후의 문장을 실행한다.\n"
   ]
  },
  {
   "cell_type": "code",
   "execution_count": 1,
   "id": "a7820481-b779-467f-be92-62dc22c4c121",
   "metadata": {},
   "outputs": [
    {
     "name": "stdin",
     "output_type": "stream",
     "text": [
      " 12/25\n"
     ]
    },
    {
     "name": "stdout",
     "output_type": "stream",
     "text": [
      "크리스마스입니다.\n"
     ]
    }
   ],
   "source": [
    "my_string = input()\n",
    "\n",
    "if my_string == '12/25':\n",
    "    print('크리스마스입니다.')\n",
    "else:\n",
    "    print('크리스마스가 아닙니다.')"
   ]
  },
  {
   "cell_type": "code",
   "execution_count": null,
   "id": "52d0b4ac-3681-461b-80b4-d367717adbdd",
   "metadata": {},
   "outputs": [],
   "source": []
  }
 ],
 "metadata": {
  "kernelspec": {
   "display_name": "Python 3 (ipykernel)",
   "language": "python",
   "name": "python3"
  },
  "language_info": {
   "codemirror_mode": {
    "name": "ipython",
    "version": 3
   },
   "file_extension": ".py",
   "mimetype": "text/x-python",
   "name": "python",
   "nbconvert_exporter": "python",
   "pygments_lexer": "ipython3",
   "version": "3.11.4"
  }
 },
 "nbformat": 4,
 "nbformat_minor": 5
}
