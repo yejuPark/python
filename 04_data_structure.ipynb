{
 "cells": [
  {
   "cell_type": "code",
   "execution_count": 1,
   "id": "58e2e20b-7322-4c10-a287-9723c23c842d",
   "metadata": {},
   "outputs": [
    {
     "name": "stdout",
     "output_type": "stream",
     "text": [
      "hello\n"
     ]
    }
   ],
   "source": [
    "print('hello')"
   ]
  },
  {
   "cell_type": "code",
   "execution_count": 3,
   "id": "41b7d810-c7d4-4fe8-9b70-7376a4eb28c1",
   "metadata": {},
   "outputs": [
    {
     "data": {
      "text/plain": [
       "'123'"
      ]
     },
     "execution_count": 3,
     "metadata": {},
     "output_type": "execute_result"
    }
   ],
   "source": [
    "''.join(['1','2','3'])"
   ]
  },
  {
   "cell_type": "code",
   "execution_count": 5,
   "id": "53b923d1-e2f2-4cd1-90b2-36a148c96c58",
   "metadata": {},
   "outputs": [
    {
     "data": {
      "text/plain": [
       "['__abs__',\n",
       " '__add__',\n",
       " '__and__',\n",
       " '__bool__',\n",
       " '__ceil__',\n",
       " '__class__',\n",
       " '__delattr__',\n",
       " '__dir__',\n",
       " '__divmod__',\n",
       " '__doc__',\n",
       " '__eq__',\n",
       " '__float__',\n",
       " '__floor__',\n",
       " '__floordiv__',\n",
       " '__format__',\n",
       " '__ge__',\n",
       " '__getattribute__',\n",
       " '__getnewargs__',\n",
       " '__getstate__',\n",
       " '__gt__',\n",
       " '__hash__',\n",
       " '__index__',\n",
       " '__init__',\n",
       " '__init_subclass__',\n",
       " '__int__',\n",
       " '__invert__',\n",
       " '__le__',\n",
       " '__lshift__',\n",
       " '__lt__',\n",
       " '__mod__',\n",
       " '__mul__',\n",
       " '__ne__',\n",
       " '__neg__',\n",
       " '__new__',\n",
       " '__or__',\n",
       " '__pos__',\n",
       " '__pow__',\n",
       " '__radd__',\n",
       " '__rand__',\n",
       " '__rdivmod__',\n",
       " '__reduce__',\n",
       " '__reduce_ex__',\n",
       " '__repr__',\n",
       " '__rfloordiv__',\n",
       " '__rlshift__',\n",
       " '__rmod__',\n",
       " '__rmul__',\n",
       " '__ror__',\n",
       " '__round__',\n",
       " '__rpow__',\n",
       " '__rrshift__',\n",
       " '__rshift__',\n",
       " '__rsub__',\n",
       " '__rtruediv__',\n",
       " '__rxor__',\n",
       " '__setattr__',\n",
       " '__sizeof__',\n",
       " '__str__',\n",
       " '__sub__',\n",
       " '__subclasshook__',\n",
       " '__truediv__',\n",
       " '__trunc__',\n",
       " '__xor__',\n",
       " 'as_integer_ratio',\n",
       " 'bit_count',\n",
       " 'bit_length',\n",
       " 'conjugate',\n",
       " 'denominator',\n",
       " 'from_bytes',\n",
       " 'imag',\n",
       " 'numerator',\n",
       " 'real',\n",
       " 'to_bytes']"
      ]
     },
     "execution_count": 5,
     "metadata": {},
     "output_type": "execute_result"
    }
   ],
   "source": [
    "dir(1)"
   ]
  },
  {
   "cell_type": "markdown",
   "id": "9b4cc317-7f53-4b1e-ad1b-71a910be8caf",
   "metadata": {},
   "source": [
    "# 1. 문자열 메소드"
   ]
  },
  {
   "cell_type": "code",
   "execution_count": 14,
   "id": "84018c35-6889-450b-bbec-10ba524cc49a",
   "metadata": {},
   "outputs": [],
   "source": [
    "a = 'hello my name is yeju'"
   ]
  },
  {
   "cell_type": "code",
   "execution_count": 15,
   "id": "9d757dd7-fbf0-4ad0-80d1-08e036d205f1",
   "metadata": {},
   "outputs": [
    {
     "ename": "TypeError",
     "evalue": "'str' object does not support item assignment",
     "output_type": "error",
     "traceback": [
      "\u001b[0;31m---------------------------------------------------------------------------\u001b[0m",
      "\u001b[0;31mTypeError\u001b[0m                                 Traceback (most recent call last)",
      "Cell \u001b[0;32mIn[15], line 1\u001b[0m\n\u001b[0;32m----> 1\u001b[0m \u001b[43ma\u001b[49m\u001b[43m[\u001b[49m\u001b[38;5;241;43m0\u001b[39;49m\u001b[43m]\u001b[49m \u001b[38;5;241m=\u001b[39m \u001b[38;5;124m'\u001b[39m\u001b[38;5;124mH\u001b[39m\u001b[38;5;124m'\u001b[39m\n",
      "\u001b[0;31mTypeError\u001b[0m: 'str' object does not support item assignment"
     ]
    }
   ],
   "source": [
    "a[0] = 'H'"
   ]
  },
  {
   "cell_type": "code",
   "execution_count": 16,
   "id": "224c8a30-9246-4c1a-8ef4-3f62f9b9af21",
   "metadata": {},
   "outputs": [
    {
     "data": {
      "text/plain": [
       "'Hello my name is yeju'"
      ]
     },
     "execution_count": 16,
     "metadata": {},
     "output_type": "execute_result"
    }
   ],
   "source": [
    "a.capitalize()"
   ]
  },
  {
   "cell_type": "code",
   "execution_count": 17,
   "id": "39c23f2b-e861-474b-b106-7497a8b20811",
   "metadata": {},
   "outputs": [
    {
     "name": "stdout",
     "output_type": "stream",
     "text": [
      "hello my name is yeju\n"
     ]
    }
   ],
   "source": [
    "print(a)"
   ]
  },
  {
   "cell_type": "code",
   "execution_count": 18,
   "id": "426b5d6f-c48a-4350-975b-ce326d78432d",
   "metadata": {},
   "outputs": [
    {
     "name": "stdout",
     "output_type": "stream",
     "text": [
      "Hello my name is yeju\n"
     ]
    }
   ],
   "source": [
    "print(a.capitalize())"
   ]
  },
  {
   "cell_type": "code",
   "execution_count": 19,
   "id": "436679f8-2a09-42a4-bb42-c9b7e9ca2891",
   "metadata": {},
   "outputs": [
    {
     "data": {
      "text/plain": [
       "'Hello My Name Is Yeju'"
      ]
     },
     "execution_count": 19,
     "metadata": {},
     "output_type": "execute_result"
    }
   ],
   "source": [
    "a.title()"
   ]
  },
  {
   "cell_type": "code",
   "execution_count": 20,
   "id": "795a884d-0b87-4f36-b6a8-1f1df21116f3",
   "metadata": {},
   "outputs": [
    {
     "data": {
      "text/plain": [
       "'HELLO MY NAME IS YEJU'"
      ]
     },
     "execution_count": 20,
     "metadata": {},
     "output_type": "execute_result"
    }
   ],
   "source": [
    "a.upper()"
   ]
  },
  {
   "cell_type": "code",
   "execution_count": 21,
   "id": "3cb3d967-2426-4d2e-a02a-4fd021ea2bb8",
   "metadata": {},
   "outputs": [
    {
     "data": {
      "text/plain": [
       "'hello my name is yeju'"
      ]
     },
     "execution_count": 21,
     "metadata": {},
     "output_type": "execute_result"
    }
   ],
   "source": [
    "a.lower()"
   ]
  },
  {
   "cell_type": "code",
   "execution_count": 22,
   "id": "92f9b3fc-82f9-4ae0-96b4-bbe7ac3bb5d2",
   "metadata": {},
   "outputs": [
    {
     "name": "stdout",
     "output_type": "stream",
     "text": [
      "hello my name is yeju\n"
     ]
    }
   ],
   "source": [
    "print(a)"
   ]
  },
  {
   "cell_type": "code",
   "execution_count": 23,
   "id": "5cff832c-b1e1-4684-a91e-17fe48dbc890",
   "metadata": {},
   "outputs": [
    {
     "data": {
      "text/plain": [
       "'himyname'"
      ]
     },
     "execution_count": 23,
     "metadata": {},
     "output_type": "execute_result"
    }
   ],
   "source": [
    "# ''.join(iterable)\n",
    "my_list = ['hi', 'my', 'name']\n",
    "''.join(my_list)"
   ]
  },
  {
   "cell_type": "code",
   "execution_count": 24,
   "id": "de4d872e-316b-49f3-9f0b-8c2044835bb5",
   "metadata": {},
   "outputs": [
    {
     "data": {
      "text/plain": [
       "'hi, my, name'"
      ]
     },
     "execution_count": 24,
     "metadata": {},
     "output_type": "execute_result"
    }
   ],
   "source": [
    "my_list = ['hi', 'my', 'name']\n",
    "', '.join(my_list)"
   ]
  },
  {
   "cell_type": "code",
   "execution_count": 26,
   "id": "aed71dd0-f5ff-4e52-b451-edc39828e0a6",
   "metadata": {},
   "outputs": [
    {
     "data": {
      "text/plain": [
       "'w!!!oooooooooooow'"
      ]
     },
     "execution_count": 26,
     "metadata": {},
     "output_type": "execute_result"
    }
   ],
   "source": [
    "# .replace(old, new[, count])\n",
    "'wooooooooooooooow'.replace('o', '!', 3)"
   ]
  },
  {
   "cell_type": "code",
   "execution_count": 32,
   "id": "5ec0688f-34b9-48cb-82aa-d1956c43371d",
   "metadata": {},
   "outputs": [
    {
     "name": "stdout",
     "output_type": "stream",
     "text": [
      "       hello\n",
      "\n",
      "hello\n",
      "ello\n",
      "ellohihihihi\n",
      "hihihihihello\n"
     ]
    }
   ],
   "source": [
    "# .strip([chars]) : 공백제거\n",
    "my_string = '       hello\\n'\n",
    "print(my_string)\n",
    "print(my_string.strip())\n",
    "\n",
    "my_string2 = 'hihihihihellohihihihi'\n",
    "print(my_string2.strip('hi'))\n",
    "print(my_string2.lstrip('hi'))\n",
    "print(my_string2.rstrip('hi'))\n"
   ]
  },
  {
   "cell_type": "code",
   "execution_count": 40,
   "id": "82baf066-962b-461b-9518-9ccad21face4",
   "metadata": {},
   "outputs": [
    {
     "name": "stdout",
     "output_type": "stream",
     "text": [
      "1\n",
      "-1\n"
     ]
    }
   ],
   "source": [
    "# .find(x) : index 값 반환 / 없으면 -1 \n",
    "\n",
    "a = 'apple'\n",
    "print(a.find('p'))\n",
    "print(a.find('z'))\n",
    "\n",
    "# for i in range(len(a)):\n",
    "#     if 'p' == a[i]:\n",
    "#         print(i)"
   ]
  },
  {
   "cell_type": "code",
   "execution_count": 37,
   "id": "fe0a12c8-6feb-4bad-9dba-4a226d8b8ff0",
   "metadata": {},
   "outputs": [
    {
     "name": "stdout",
     "output_type": "stream",
     "text": [
      "1\n"
     ]
    },
    {
     "ename": "ValueError",
     "evalue": "substring not found",
     "output_type": "error",
     "traceback": [
      "\u001b[0;31m---------------------------------------------------------------------------\u001b[0m",
      "\u001b[0;31mValueError\u001b[0m                                Traceback (most recent call last)",
      "Cell \u001b[0;32mIn[37], line 5\u001b[0m\n\u001b[1;32m      3\u001b[0m a \u001b[38;5;241m=\u001b[39m \u001b[38;5;124m'\u001b[39m\u001b[38;5;124mapple\u001b[39m\u001b[38;5;124m'\u001b[39m\n\u001b[1;32m      4\u001b[0m \u001b[38;5;28mprint\u001b[39m(a\u001b[38;5;241m.\u001b[39mindex(\u001b[38;5;124m'\u001b[39m\u001b[38;5;124mp\u001b[39m\u001b[38;5;124m'\u001b[39m))\n\u001b[0;32m----> 5\u001b[0m \u001b[38;5;28mprint\u001b[39m(\u001b[43ma\u001b[49m\u001b[38;5;241;43m.\u001b[39;49m\u001b[43mindex\u001b[49m\u001b[43m(\u001b[49m\u001b[38;5;124;43m'\u001b[39;49m\u001b[38;5;124;43mz\u001b[39;49m\u001b[38;5;124;43m'\u001b[39;49m\u001b[43m)\u001b[49m)\n",
      "\u001b[0;31mValueError\u001b[0m: substring not found"
     ]
    }
   ],
   "source": [
    "# .index(x)\n",
    "\n",
    "a = 'apple'\n",
    "print(a.index('p'))\n",
    "print(a.index('z'))"
   ]
  },
  {
   "cell_type": "code",
   "execution_count": 42,
   "id": "7eb98826-90ea-45b7-a866-e314960fe156",
   "metadata": {},
   "outputs": [
    {
     "data": {
      "text/plain": [
       "['my', 'name', 'is', 'park']"
      ]
     },
     "execution_count": 42,
     "metadata": {},
     "output_type": "execute_result"
    }
   ],
   "source": [
    "# .split(나누는 기준)\n",
    "\n",
    "a = 'my name is park'\n",
    "a.split()"
   ]
  },
  {
   "cell_type": "code",
   "execution_count": 43,
   "id": "d5c663d1-8712-4251-acd7-b827a80a102f",
   "metadata": {},
   "outputs": [
    {
     "data": {
      "text/plain": [
       "15"
      ]
     },
     "execution_count": 43,
     "metadata": {},
     "output_type": "execute_result"
    }
   ],
   "source": [
    "# .count()\n",
    "'wooooooooooooooow'.count('o')"
   ]
  },
  {
   "cell_type": "markdown",
   "id": "597cc74c-b718-482b-89b1-3d24afbb26ed",
   "metadata": {},
   "source": [
    "# 2. 리스트 메소드"
   ]
  },
  {
   "cell_type": "code",
   "execution_count": 44,
   "id": "9848d35a-c5db-4f96-80f6-67a0e1c96382",
   "metadata": {},
   "outputs": [],
   "source": [
    "numbers = [1,2,2,5,2,1,6,9,4,2,3]"
   ]
  },
  {
   "cell_type": "code",
   "execution_count": 45,
   "id": "421736a6-fb49-4ba7-b5c0-4474659cef2f",
   "metadata": {},
   "outputs": [
    {
     "name": "stdout",
     "output_type": "stream",
     "text": [
      "[1, 2, 2, 5, 2, 1, 6, 9, 4, 2, 3, 10]\n"
     ]
    }
   ],
   "source": [
    "# .append(x) : 원본 자체를 수정\n",
    "\n",
    "numbers.append(10)\n",
    "print(numbers)\n"
   ]
  },
  {
   "cell_type": "code",
   "execution_count": 47,
   "id": "c560fdea-c214-4781-9ee9-4bb1c4ed47c9",
   "metadata": {},
   "outputs": [
    {
     "name": "stdout",
     "output_type": "stream",
     "text": [
      "[1, 2, 2, 5, 2, 1, 6, 9, 4, 2, 3, 10, 99, 100, 99, 100]\n",
      "[1, 2, 2, 5, 2, 1, 6, 9, 4, 2, 3, 10, 99, 100, 99, 100, 99, 100]\n"
     ]
    }
   ],
   "source": [
    "# .extend(iterable)\n",
    "\n",
    "a = [99,100]\n",
    "numbers.extend(a)\n",
    "print(numbers)\n",
    "print(numbers + a)"
   ]
  },
  {
   "cell_type": "code",
   "execution_count": 48,
   "id": "b5faf6ce-27bd-4e53-a6bb-b25226d4b7d4",
   "metadata": {},
   "outputs": [
    {
     "name": "stdout",
     "output_type": "stream",
     "text": [
      "[1, 2, 2, 3.5, 5, 2, 1, 6, 9, 4, 2, 3, 10, 99, 100, 99, 100]\n"
     ]
    }
   ],
   "source": [
    "# insert(idx, x)\n",
    "\n",
    "numbers.insert(3, 3.5)\n",
    "print(numbers)"
   ]
  },
  {
   "cell_type": "code",
   "execution_count": 49,
   "id": "ef105375-d515-4b48-b9ce-d038acaf8768",
   "metadata": {},
   "outputs": [
    {
     "name": "stdout",
     "output_type": "stream",
     "text": [
      "[1, 2, 2, 5, 2, 1, 6, 9, 4, 2, 3, 10, 99, 100, 99, 100]\n"
     ]
    }
   ],
   "source": [
    "# .remove(x)\n",
    "\n",
    "numbers.remove(3.5)\n",
    "print(numbers)"
   ]
  },
  {
   "cell_type": "code",
   "execution_count": 51,
   "id": "9fe45045-ae05-4186-9fda-856ad8568f28",
   "metadata": {},
   "outputs": [
    {
     "name": "stdout",
     "output_type": "stream",
     "text": [
      "[2, 2, 5, 2, 1, 6, 9, 4, 2, 3, 10, 99, 100, 99]\n"
     ]
    }
   ],
   "source": [
    "# .pop([idx]) : 안적으면 맨 뒤\n",
    "\n",
    "numbers.pop(0)\n",
    "print(numbers)"
   ]
  },
  {
   "cell_type": "code",
   "execution_count": 55,
   "id": "5787da7e-90e7-49bc-b290-24004621b0f7",
   "metadata": {},
   "outputs": [
    {
     "name": "stdout",
     "output_type": "stream",
     "text": [
      "[1, 2, 2, 2, 2, 3, 4, 5, 6, 9, 10, 99, 99, 100]\n",
      "[100, 99, 99, 10, 9, 6, 5, 4, 3, 2, 2, 2, 2, 1]\n"
     ]
    }
   ],
   "source": [
    "# .sort() : 정렬\n",
    "\n",
    "numbers.sort()\n",
    "print(numbers)\n",
    "\n",
    "numbers.sort(reverse=True)\n",
    "print(numbers)"
   ]
  },
  {
   "cell_type": "code",
   "execution_count": 62,
   "id": "75f6ddf5-f301-4b7f-af34-7b2aab04cf7c",
   "metadata": {},
   "outputs": [
    {
     "name": "stdout",
     "output_type": "stream",
     "text": [
      "[100, 99, 99, 10, 9, 6, 5, 4, 3, 2, 2, 2, 2, 1]\n",
      "[1, 2, 2, 2, 2, 3, 4, 5, 6, 9, 10, 99, 99, 100]\n",
      "[100, 99, 99, 10, 9, 6, 5, 4, 3, 2, 2, 2, 2, 1]\n"
     ]
    }
   ],
   "source": [
    "# .reverse() : 역순\n",
    "\n",
    "print(numbers)\n",
    "numbers.reverse()\n",
    "print(numbers)\n",
    "\n",
    "numbers = numbers[::-1]   # = [0:-1:-1]\n",
    "print(numbers)"
   ]
  },
  {
   "cell_type": "markdown",
   "id": "63a1a42a-2217-4a5d-a4ea-14f15753a996",
   "metadata": {},
   "source": [
    "## 2.1 list copy"
   ]
  },
  {
   "cell_type": "code",
   "execution_count": 63,
   "id": "b324d49c-8ed2-4ea5-8ec4-582f5d494bbc",
   "metadata": {},
   "outputs": [],
   "source": [
    "origin_list = [1,2,3]\n",
    "copy_list = origin_list"
   ]
  },
  {
   "cell_type": "code",
   "execution_count": 64,
   "id": "1381e261-002b-4c97-a762-7633605010f9",
   "metadata": {},
   "outputs": [
    {
     "name": "stdout",
     "output_type": "stream",
     "text": [
      "[1, 2, 3]\n",
      "[1, 2, 3]\n"
     ]
    }
   ],
   "source": [
    "print(origin_list)\n",
    "print(copy_list)"
   ]
  },
  {
   "cell_type": "code",
   "execution_count": 65,
   "id": "55d52413-5079-4028-b714-a39e3232da2d",
   "metadata": {},
   "outputs": [],
   "source": [
    "copy_list[0] = 100"
   ]
  },
  {
   "cell_type": "code",
   "execution_count": 66,
   "id": "eeba969c-25ea-48d6-8fd1-f23062c41858",
   "metadata": {},
   "outputs": [
    {
     "name": "stdout",
     "output_type": "stream",
     "text": [
      "[100, 2, 3]\n",
      "[100, 2, 3]\n"
     ]
    }
   ],
   "source": [
    "print(origin_list)\n",
    "print(copy_list)"
   ]
  },
  {
   "cell_type": "code",
   "execution_count": 68,
   "id": "d38cb827-2be5-468e-944c-b79d32fd4c75",
   "metadata": {},
   "outputs": [
    {
     "name": "stdout",
     "output_type": "stream",
     "text": [
      "[1, 2, 3]\n",
      "[100, 2, 3]\n"
     ]
    }
   ],
   "source": [
    "a = [1,2,3]\n",
    "b = a[:]\n",
    "b = list(a)\n",
    "\n",
    "b[0] = 100\n",
    "\n",
    "print(a)\n",
    "print(b)"
   ]
  },
  {
   "cell_type": "code",
   "execution_count": 69,
   "id": "e802b947-72cd-49bf-b1fe-c0ec7c3ec6a4",
   "metadata": {},
   "outputs": [
    {
     "name": "stdout",
     "output_type": "stream",
     "text": [
      "[1, 2, [100, 4]]\n",
      "[1, 2, [100, 4]]\n"
     ]
    }
   ],
   "source": [
    "a = [1,2,[3,4]]\n",
    "b = a[:]\n",
    "\n",
    "b[2][0]= 100\n",
    "\n",
    "print(a)\n",
    "print(b)"
   ]
  },
  {
   "cell_type": "code",
   "execution_count": 70,
   "id": "8d37fe82-1eb1-4f5a-b3f3-216da0bda55c",
   "metadata": {},
   "outputs": [
    {
     "name": "stdout",
     "output_type": "stream",
     "text": [
      "[1, 2, [3, 4]]\n",
      "[1, 2, [100, 4]]\n"
     ]
    }
   ],
   "source": [
    "import copy\n",
    "a = [1,2,[3,4]]\n",
    "b = copy.deepcopy(a)\n",
    "\n",
    "b[2][0] = 100\n",
    "\n",
    "print(a)\n",
    "print(b)"
   ]
  },
  {
   "cell_type": "markdown",
   "id": "f3ecf0ad-9e8d-4868-ad2c-542d710e9afc",
   "metadata": {},
   "source": [
    "## 2.2 list comprehension"
   ]
  },
  {
   "cell_type": "code",
   "execution_count": 73,
   "id": "55f7836b-c34a-4dcd-b258-b581509820cf",
   "metadata": {},
   "outputs": [
    {
     "name": "stdout",
     "output_type": "stream",
     "text": [
      "[1, 2, 3, 4, 5, 6, 7, 8, 9, 10]\n"
     ]
    }
   ],
   "source": [
    "numbers = list(range(1,11))\n",
    "print(numbers)"
   ]
  },
  {
   "cell_type": "code",
   "execution_count": 80,
   "id": "cad73207-2108-415e-a18a-0d72079762f8",
   "metadata": {},
   "outputs": [
    {
     "name": "stdout",
     "output_type": "stream",
     "text": [
      "[1, 8, 27, 64, 125, 216, 343, 512, 729, 1000]\n"
     ]
    }
   ],
   "source": [
    "result = []\n",
    "for num in numbers:\n",
    "    result.append(num ** 3)\n",
    "\n",
    "print(result)"
   ]
  },
  {
   "cell_type": "code",
   "execution_count": 83,
   "id": "2ed3ef6e-16d9-470e-b19c-ee0cabda3c0e",
   "metadata": {},
   "outputs": [
    {
     "name": "stdout",
     "output_type": "stream",
     "text": [
      "[1, 8, 27, 64, 125, 216, 343, 512, 729, 1000]\n"
     ]
    }
   ],
   "source": [
    "result2 = [number ** 3 for number in numbers]\n",
    "print(result2)"
   ]
  },
  {
   "cell_type": "code",
   "execution_count": 88,
   "id": "f281343b-269f-4ff7-8ea4-9eb4b4c6b803",
   "metadata": {},
   "outputs": [
    {
     "name": "stdout",
     "output_type": "stream",
     "text": [
      "[2, 4, 6, 8, 10]\n"
     ]
    }
   ],
   "source": [
    "# 짝수만 고르기\n",
    "\n",
    "even_list = []\n",
    "for i in numbers:\n",
    "    if i % 2 == 0:\n",
    "        even_list.append(i)\n",
    "\n",
    "print(even_list)"
   ]
  },
  {
   "cell_type": "code",
   "execution_count": 89,
   "id": "44d5a823-fae2-41e5-965a-f84fd70c3668",
   "metadata": {},
   "outputs": [
    {
     "name": "stdout",
     "output_type": "stream",
     "text": [
      "[2, 4, 6, 8, 10]\n"
     ]
    }
   ],
   "source": [
    "even_list2 = [i for i in numbers if i % 2 == 0]\n",
    "print(even_list2)"
   ]
  },
  {
   "cell_type": "code",
   "execution_count": 104,
   "id": "8279531a-12c9-4883-b9de-16f6d2e12514",
   "metadata": {},
   "outputs": [],
   "source": [
    "words = 'my name is yeju'\n",
    "voewls = 'aeiou'\n",
    "\n",
    "# 모음 제거 => my nm s yj "
   ]
  },
  {
   "cell_type": "code",
   "execution_count": 110,
   "id": "8f3373d4-1008-4873-8e24-4f29dd7ef0d0",
   "metadata": {},
   "outputs": [
    {
     "name": "stdout",
     "output_type": "stream",
     "text": [
      "['m', 'y', ' ', 'n', 'm', ' ', 's', ' ', 'y', 'j']\n",
      "my nm s yj\n"
     ]
    }
   ],
   "source": [
    "# 1. for문 버전\n",
    "\n",
    "result = []\n",
    "for char in words:\n",
    "    if char not in voewls:\n",
    "        result.append(char)\n",
    "print(result)\n",
    "print(''.join(result))"
   ]
  },
  {
   "cell_type": "code",
   "execution_count": 115,
   "id": "6a4aae16-bdd8-43fd-afe3-ada66a5330fe",
   "metadata": {},
   "outputs": [
    {
     "name": "stdout",
     "output_type": "stream",
     "text": [
      "['M', 'Y', ' ', 'N', 'M', ' ', 'S', ' ', 'Y', 'J']\n",
      "MY NM S YJ\n"
     ]
    }
   ],
   "source": [
    "# 2. list comprehension\n",
    "\n",
    "result2 = [char.upper() for char in words if char not in voewls]\n",
    "print(result2)\n",
    "print(''.join(result2))"
   ]
  },
  {
   "cell_type": "markdown",
   "id": "24d3f291-5195-4e37-a3b2-20cdc27d861c",
   "metadata": {},
   "source": [
    "## 3. Dictionary 메소드"
   ]
  },
  {
   "cell_type": "code",
   "execution_count": 121,
   "id": "31e63593-e867-4a0e-9828-278cd8e2f200",
   "metadata": {},
   "outputs": [],
   "source": [
    "info = {\n",
    "    'name': 'yeju',\n",
    "    'location': 'dg',\n",
    "}"
   ]
  },
  {
   "cell_type": "code",
   "execution_count": 118,
   "id": "ce843530-b291-4224-a29d-61eae9c878d3",
   "metadata": {},
   "outputs": [
    {
     "data": {
      "text/plain": [
       "'kim'"
      ]
     },
     "execution_count": 118,
     "metadata": {},
     "output_type": "execute_result"
    }
   ],
   "source": [
    "info['name'] = 'kim'\n",
    "info['name']"
   ]
  },
  {
   "cell_type": "code",
   "execution_count": 125,
   "id": "0decc7c6-4923-4fb8-b0e7-0756d68a1f62",
   "metadata": {},
   "outputs": [
    {
     "name": "stdout",
     "output_type": "stream",
     "text": [
      "None\n",
      "{'name': 'yeju'}\n"
     ]
    }
   ],
   "source": [
    "# .pop(key[, default])\n",
    "\n",
    "print(info.pop('location', None))\n",
    "print(info)"
   ]
  },
  {
   "cell_type": "code",
   "execution_count": 126,
   "id": "18faf12d-d92b-4503-b080-f9aba50bbb32",
   "metadata": {},
   "outputs": [
    {
     "name": "stdout",
     "output_type": "stream",
     "text": [
      "{'name': 'kim'}\n"
     ]
    }
   ],
   "source": [
    "# .update(key=value)\n",
    "\n",
    "info.update(name='kim')\n",
    "print(info)"
   ]
  },
  {
   "cell_type": "code",
   "execution_count": 130,
   "id": "81dad612-ab6f-4211-80a9-6c146dc279aa",
   "metadata": {},
   "outputs": [
    {
     "name": "stdout",
     "output_type": "stream",
     "text": [
      "kim\n",
      "123\n"
     ]
    }
   ],
   "source": [
    "# .get(key[, default])\n",
    "print(info.get('name'))\n",
    "print(info.get('school', '123'))\n",
    "# print(info['school'])"
   ]
  },
  {
   "cell_type": "markdown",
   "id": "4a23bd46-ea9a-4ef9-80b7-942a83db4e6e",
   "metadata": {},
   "source": [
    "## 3.1 dict comprehension"
   ]
  },
  {
   "cell_type": "code",
   "execution_count": 132,
   "id": "d52d6e8b-0300-43f8-becb-c474b3972b07",
   "metadata": {},
   "outputs": [],
   "source": [
    "# {1: 1, 2: 8, 3: 27}"
   ]
  },
  {
   "cell_type": "code",
   "execution_count": 133,
   "id": "9fd0f4b1-ff58-4c86-8549-523335a6656e",
   "metadata": {},
   "outputs": [
    {
     "name": "stdout",
     "output_type": "stream",
     "text": [
      "{1: 1, 2: 8, 3: 27}\n"
     ]
    }
   ],
   "source": [
    "# for\n",
    "\n",
    "cube_dict = {}\n",
    "for i in range(1, 4):\n",
    "    cube_dict[i] = i ** 3\n",
    "print(cube_dict)"
   ]
  },
  {
   "cell_type": "code",
   "execution_count": 134,
   "id": "0cc5efcb-87e3-4282-a79c-82c66bdd9b57",
   "metadata": {},
   "outputs": [
    {
     "name": "stdout",
     "output_type": "stream",
     "text": [
      "{1: 1, 2: 8, 3: 27}\n"
     ]
    }
   ],
   "source": [
    "# dict comp\n",
    "\n",
    "cube_dict2 = {i: i**3 for i in range(1, 4)}\n",
    "\n",
    "print(cube_dict2)"
   ]
  },
  {
   "cell_type": "code",
   "execution_count": 136,
   "id": "c346aa80-6482-4644-a9d8-6e94467b32ad",
   "metadata": {},
   "outputs": [],
   "source": [
    "# \n",
    "dust = {\n",
    "    '서울': 100,\n",
    "    '대구': 30,\n",
    "    '대전': 10,\n",
    "    '부산': 80,\n",
    "    '광주': 50,\n",
    "}"
   ]
  },
  {
   "cell_type": "code",
   "execution_count": 146,
   "id": "0c910768-6935-4b0f-ac3b-f3e4a30b11a8",
   "metadata": {},
   "outputs": [
    {
     "name": "stdout",
     "output_type": "stream",
     "text": [
      "{'서울': 100, '부산': 80, '광주': 50}\n"
     ]
    }
   ],
   "source": [
    "# for 문\n",
    "result = {}\n",
    "for k, v in dust.items():\n",
    "    if v >= 50:\n",
    "        result[k] = v\n",
    "\n",
    "print(result)"
   ]
  },
  {
   "cell_type": "code",
   "execution_count": 147,
   "id": "748a2519-ef39-421d-b073-0d916597f5d6",
   "metadata": {},
   "outputs": [
    {
     "name": "stdout",
     "output_type": "stream",
     "text": [
      "{'서울': 100, '부산': 80, '광주': 50}\n"
     ]
    }
   ],
   "source": [
    "# dict comp \n",
    "result2 = {k: v for k,v in dust.items() if v >= 50}\n",
    "print(result2)"
   ]
  },
  {
   "cell_type": "code",
   "execution_count": 149,
   "id": "0e6a91e4-d935-4e22-ba7c-c841e0e34b5b",
   "metadata": {},
   "outputs": [
    {
     "name": "stdout",
     "output_type": "stream",
     "text": [
      "{'서울': '나쁨', '부산': '나쁨', '광주': '나쁨'}\n"
     ]
    }
   ],
   "source": [
    "result3 = {k: '나쁨' for k,v in dust.items() if v >= 50}\n",
    "print(result3)"
   ]
  },
  {
   "cell_type": "markdown",
   "id": "13cee154-2554-4b75-b83d-bcff4c6f9ac1",
   "metadata": {},
   "source": [
    "# 4. set 메소드"
   ]
  },
  {
   "cell_type": "code",
   "execution_count": 150,
   "id": "e4e40d83-44cf-440f-bc48-3b15bc487431",
   "metadata": {},
   "outputs": [],
   "source": [
    "fruits = {'apple', 'banana', 'melon'}"
   ]
  },
  {
   "cell_type": "code",
   "execution_count": 155,
   "id": "fbb204c1-1faa-4efe-b68b-e5f0da34d470",
   "metadata": {},
   "outputs": [
    {
     "name": "stdout",
     "output_type": "stream",
     "text": [
      "{'melon', 'watermelon', 'apple', 'banana'}\n"
     ]
    }
   ],
   "source": [
    "# .add()\n",
    "\n",
    "fruits.add('watermelon')\n",
    "print(fruits)"
   ]
  },
  {
   "cell_type": "code",
   "execution_count": 157,
   "id": "29b62bf0-da96-4494-933b-926f201ef09c",
   "metadata": {},
   "outputs": [
    {
     "name": "stdout",
     "output_type": "stream",
     "text": [
      "{'a', 'watermelon', 'g', 'apple', 'banana', 'p', 'e', 'melon', 'r'}\n",
      "{'a', 'watermelon', 'g', 'apple', 'banana', 'p', 'e', 'melon', 'orange', 'r', 'pear'}\n"
     ]
    }
   ],
   "source": [
    "# .update()\n",
    "\n",
    "fruits.update('grape')\n",
    "print(fruits)\n",
    "fruits.update({'orange', 'pear'})\n",
    "print(fruits)"
   ]
  },
  {
   "cell_type": "code",
   "execution_count": 158,
   "id": "49547d83-139b-47dd-a2a5-60207cb28d1e",
   "metadata": {},
   "outputs": [
    {
     "name": "stdout",
     "output_type": "stream",
     "text": [
      "{'a', 'watermelon', 'g', 'apple', 'banana', 'p', 'e', 'melon', 'r', 'pear'}\n"
     ]
    }
   ],
   "source": [
    "# .remove()\n",
    "fruits.remove('orange')\n",
    "print(fruits)"
   ]
  },
  {
   "cell_type": "code",
   "execution_count": 160,
   "id": "636cffaf-fba2-4bf4-8c88-c888f2b3d6d7",
   "metadata": {},
   "outputs": [
    {
     "name": "stdout",
     "output_type": "stream",
     "text": [
      "{'g', 'apple', 'banana', 'p', 'e', 'melon', 'r', 'pear'}\n"
     ]
    }
   ],
   "source": [
    "# .pop()\n",
    "fruits.pop()\n",
    "print(fruits)"
   ]
  },
  {
   "cell_type": "markdown",
   "id": "cb3dc15f-9887-4586-996b-c9c956fe4610",
   "metadata": {},
   "source": [
    "# 5. map(), zip(), filter()"
   ]
  },
  {
   "cell_type": "markdown",
   "id": "c6b505fe-ba22-4acb-8e59-cd368b91c5cb",
   "metadata": {},
   "source": [
    "## 5.1 map()\n",
    "```\n",
    "map(function, iterable)\n",
    "```"
   ]
  },
  {
   "cell_type": "code",
   "execution_count": 162,
   "id": "01ffbab3-957a-4eb5-9b40-8e766a7ee1b2",
   "metadata": {},
   "outputs": [
    {
     "name": "stdout",
     "output_type": "stream",
     "text": [
      "<map object at 0x1045b6650>\n",
      "['1', '2', '3']\n"
     ]
    }
   ],
   "source": [
    "a = [1,2,3]\n",
    "\n",
    "number_str = map(str, a)\n",
    "print(number_str)\n",
    "print(list(number_str))"
   ]
  },
  {
   "cell_type": "code",
   "execution_count": 163,
   "id": "91cb6952-9f9e-4159-8f66-9f19e8e22652",
   "metadata": {},
   "outputs": [],
   "source": [
    "def cube(x):\n",
    "    return x ** 3"
   ]
  },
  {
   "cell_type": "code",
   "execution_count": 165,
   "id": "387c65ab-a945-430a-b94d-5ecb99537c0f",
   "metadata": {},
   "outputs": [
    {
     "name": "stdout",
     "output_type": "stream",
     "text": [
      "[1, 8, 27]\n"
     ]
    }
   ],
   "source": [
    "# for 문을 활용하여 모든 item에 cube 함수 실행\n",
    "\n",
    "result = []\n",
    "for i in a:\n",
    "    result.append(cube(i))\n",
    "\n",
    "print(result)"
   ]
  },
  {
   "cell_type": "code",
   "execution_count": 168,
   "id": "42a71afb-7170-4a82-b389-7ebfc4cab8b1",
   "metadata": {},
   "outputs": [
    {
     "name": "stdout",
     "output_type": "stream",
     "text": [
      "[1, 8, 27]\n"
     ]
    }
   ],
   "source": [
    "result2 = map(cube, a)\n",
    "print(list(result2))"
   ]
  },
  {
   "cell_type": "code",
   "execution_count": 173,
   "id": "69783348-2b63-49de-944c-a4ddcfdaf24b",
   "metadata": {},
   "outputs": [
    {
     "name": "stdin",
     "output_type": "stream",
     "text": [
      " 1 2 3 4 5\n"
     ]
    },
    {
     "name": "stdout",
     "output_type": "stream",
     "text": [
      "[1, 2, 3, 4, 5]\n"
     ]
    }
   ],
   "source": [
    "numbers = list(map(int, input().split()))\n",
    "print(numbers)"
   ]
  },
  {
   "cell_type": "markdown",
   "id": "2a9945e1-2c6d-4576-b574-a61e93494f72",
   "metadata": {},
   "source": [
    "## 5.2 zip"
   ]
  },
  {
   "cell_type": "code",
   "execution_count": 174,
   "id": "3fd5fe40-28a5-4f3d-af06-5b0765c3bfa9",
   "metadata": {},
   "outputs": [],
   "source": [
    "a = [1, 2, 3]\n",
    "b = [100, 200, 300]"
   ]
  },
  {
   "cell_type": "code",
   "execution_count": 176,
   "id": "4b35535f-1f59-4798-9382-558b4d980081",
   "metadata": {},
   "outputs": [
    {
     "name": "stdout",
     "output_type": "stream",
     "text": [
      "<zip object at 0x104b7ef40>\n",
      "[(1, 100), (2, 200), (3, 300)]\n"
     ]
    }
   ],
   "source": [
    "result = zip(a, b)\n",
    "print(result)\n",
    "print(list(result))"
   ]
  },
  {
   "cell_type": "markdown",
   "id": "66b805c7-b0ad-497f-aedb-3eea756d6a26",
   "metadata": {},
   "source": [
    "## 5.3 filter\n",
    "\n",
    "```python\n",
    "filter(function, iterable)\n",
    "```\n",
    "\n",
    "filter에 들어가는 function은 T/F를 반환해야 합니다."
   ]
  },
  {
   "cell_type": "code",
   "execution_count": 177,
   "id": "6ccba880-db35-4a77-ad7f-0cdd47a69e17",
   "metadata": {},
   "outputs": [],
   "source": [
    "def is_odd(x):\n",
    "    return bool(x % 2)"
   ]
  },
  {
   "cell_type": "code",
   "execution_count": 178,
   "id": "76ce406a-cf43-4a33-8f8b-2a83b82cc165",
   "metadata": {},
   "outputs": [
    {
     "name": "stdout",
     "output_type": "stream",
     "text": [
      "[1, 3, 5]\n"
     ]
    }
   ],
   "source": [
    "numbers = [1,2,3,4,5]\n",
    "result = filter(is_odd, numbers)\n",
    "print(list(result))"
   ]
  },
  {
   "cell_type": "code",
   "execution_count": null,
   "id": "5dcee88a-f7d7-4011-8bce-9c90313adbe9",
   "metadata": {},
   "outputs": [],
   "source": []
  }
 ],
 "metadata": {
  "kernelspec": {
   "display_name": "Python 3 (ipykernel)",
   "language": "python",
   "name": "python3"
  },
  "language_info": {
   "codemirror_mode": {
    "name": "ipython",
    "version": 3
   },
   "file_extension": ".py",
   "mimetype": "text/x-python",
   "name": "python",
   "nbconvert_exporter": "python",
   "pygments_lexer": "ipython3",
   "version": "3.11.4"
  }
 },
 "nbformat": 4,
 "nbformat_minor": 5
}
