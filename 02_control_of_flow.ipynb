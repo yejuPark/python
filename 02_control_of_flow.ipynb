{
 "cells": [
  {
   "cell_type": "markdown",
   "id": "18d756a8-0518-4955-a32d-7775faee0aac",
   "metadata": {},
   "source": [
    "# 제어문\n",
    "\n",
    "## 조건문 (if)\n",
    "1. `if` 문은 반드시 일정한 참/거짓을 판단할 수 있는 `조건식`과 함께 사용한다. (`if <조건식>:`)\n",
    "\n",
    "2-1. `<조건식>` 이 참인 경우 `:` 이후의 문장을 실행한다.\n",
    "\n",
    "2-2. `<조건식>` 이 거짓인 경우 `else:` 이후의 문장을 실행한다.\n",
    "\n",
    "    if <조건식>:\n",
    "        if 의 조건식이 참인 경우 실행하는 코드\n",
    "    else:\n",
    "        if 의 조건식이 거짓인 경우 실행하는 코드 \n",
    "\n"
   ]
  },
  {
   "cell_type": "code",
   "execution_count": 3,
   "id": "a7820481-b779-467f-be92-62dc22c4c121",
   "metadata": {},
   "outputs": [
    {
     "name": "stdin",
     "output_type": "stream",
     "text": [
      " 12/25\n"
     ]
    },
    {
     "name": "stdout",
     "output_type": "stream",
     "text": [
      "크리스마스입니다.\n"
     ]
    }
   ],
   "source": [
    "my_string = input()\n",
    "\n",
    "if my_string == '12/25':\n",
    "    print('크리스마스입니다.')\n",
    "else:\n",
    "    print('크리스마스가 아닙니다.')"
   ]
  },
  {
   "cell_type": "code",
   "execution_count": 4,
   "id": "2e008d16-bc89-4e9c-a338-9f48ef44d44f",
   "metadata": {},
   "outputs": [
    {
     "name": "stdin",
     "output_type": "stream",
     "text": [
      " 123\n"
     ]
    },
    {
     "name": "stdout",
     "output_type": "stream",
     "text": [
      "크리스마스가 아닙니다.\n"
     ]
    }
   ],
   "source": [
    "my_string = input()\n",
    "\n",
    "if my_string == '12/25':\n",
    "    print('크리스마스입니다.')\n",
    "else:\n",
    "    print('크리스마스가 아닙니다.')"
   ]
  },
  {
   "cell_type": "code",
   "execution_count": 4,
   "id": "0d1f49e5-d0eb-4c78-8207-435d4e6e90e4",
   "metadata": {},
   "outputs": [
    {
     "name": "stdin",
     "output_type": "stream",
     "text": [
      "숫자를 입력해주세요 123\n"
     ]
    },
    {
     "name": "stdout",
     "output_type": "stream",
     "text": [
      "123\n",
      "<class 'str'>\n"
     ]
    }
   ],
   "source": [
    "num = input('숫자를 입력해주세요')\n",
    "print(num)\n",
    "print(type(num))\n",
    "num = int(num)"
   ]
  },
  {
   "cell_type": "code",
   "execution_count": 5,
   "id": "d8eb5909-afde-4139-b1fc-9e4ccbcc7eec",
   "metadata": {},
   "outputs": [
    {
     "name": "stdout",
     "output_type": "stream",
     "text": [
      "홀수입니다.\n"
     ]
    }
   ],
   "source": [
    "# 조건문을 사용해서 num에 들어있는 숫자가 홀수/짝수 인지 판별\n",
    "\n",
    "if (num % 2) == 0:\n",
    "    print('짝수입니다.')\n",
    "else:\n",
    "    print('홀수입니다.')\n"
   ]
  },
  {
   "cell_type": "code",
   "execution_count": 6,
   "id": "2f2ad51b-bbf9-4914-b0c1-dc12b49296a0",
   "metadata": {},
   "outputs": [
    {
     "name": "stdout",
     "output_type": "stream",
     "text": [
      "홀수입니다.\n"
     ]
    }
   ],
   "source": [
    "if (num % 2) == 1:\n",
    "    print('홀수입니다.')\n",
    "else:\n",
    "    print('짝수입니다.')"
   ]
  },
  {
   "cell_type": "code",
   "execution_count": 8,
   "id": "dd18a3c3-cd27-412a-a855-53a097dc30a7",
   "metadata": {},
   "outputs": [
    {
     "name": "stdout",
     "output_type": "stream",
     "text": [
      "홀수입니다.\n"
     ]
    }
   ],
   "source": [
    "# num을 2로 나눈 나머지는 0,1 두가지 경우가 있다.\n",
    "# if문의 조건식에 0,1은 자동형변환이 일어나 False,True로 전환된다.\n",
    "\n",
    "if num % 2:\n",
    "    print('홀수입니다.')\n",
    "else:\n",
    "    print('짝수입니다.')"
   ]
  },
  {
   "cell_type": "markdown",
   "id": "199c59a8-3fd6-4abf-a7cd-fdba0e3759fc",
   "metadata": {},
   "source": [
    "### elif\n",
    "\n",
    "```\n",
    "if <조건식>:\n",
    "    if 조건이 참인경우 실행\n",
    "elif <조건식>:\n",
    "    elif 조건이 참인경우 실행\n",
    "...\n",
    "else:\n",
    "    위의 조건식에 하나도 부합하지 않는 경우 실행\n",
    "```"
   ]
  },
  {
   "cell_type": "code",
   "execution_count": 26,
   "id": "1960b200-fdc4-4dc2-baa6-e6575d151f8b",
   "metadata": {},
   "outputs": [
    {
     "name": "stdin",
     "output_type": "stream",
     "text": [
      " 95\n"
     ]
    }
   ],
   "source": [
    "score = int(input())"
   ]
  },
  {
   "cell_type": "code",
   "execution_count": 30,
   "id": "b9685c06-f960-40d9-82c2-05cdc9a05ced",
   "metadata": {},
   "outputs": [
    {
     "name": "stdout",
     "output_type": "stream",
     "text": [
      "A\n",
      "참잘했어요\n"
     ]
    }
   ],
   "source": [
    "# 90점 이상 A (95점 이상 '참잘했어요')\n",
    "# 80점 이상 B\n",
    "# 70점 이상 C\n",
    "# 나머지 F\n",
    "\n",
    "\n",
    "if score >= 90:\n",
    "    print('A')\n",
    "    if score >= 95:\n",
    "        print('참잘했어요')\n",
    "elif score >= 80:\n",
    "    print('B')\n",
    "elif score >= 70:\n",
    "    print('C')\n",
    "else:\n",
    "    print('F')"
   ]
  },
  {
   "cell_type": "markdown",
   "id": "73951ed8-4e9d-4ceb-b89d-b7402b7281c5",
   "metadata": {},
   "source": [
    "## 조건표현식\n",
    "\n",
    "```\n",
    "true_value if <조건식> else false_value\n",
    "```\n"
   ]
  },
  {
   "cell_type": "code",
   "execution_count": 31,
   "id": "548fd98d-784a-4eb0-9802-bcae3e30fa5c",
   "metadata": {},
   "outputs": [
    {
     "name": "stdout",
     "output_type": "stream",
     "text": [
      "True\n"
     ]
    }
   ],
   "source": [
    "print('True') if 1>0 else print('False')"
   ]
  },
  {
   "cell_type": "code",
   "execution_count": 32,
   "id": "34388b42-100a-4882-aaba-cf2db8d73ce0",
   "metadata": {},
   "outputs": [
    {
     "name": "stdout",
     "output_type": "stream",
     "text": [
      "False\n"
     ]
    }
   ],
   "source": [
    "print('True') if 1<0 else print('False')"
   ]
  },
  {
   "cell_type": "code",
   "execution_count": 33,
   "id": "5749d720-aee8-449e-80e3-b8748da96972",
   "metadata": {},
   "outputs": [
    {
     "name": "stdout",
     "output_type": "stream",
     "text": [
      "False\n"
     ]
    }
   ],
   "source": [
    "if 1 < 0:\n",
    "    print('True')\n",
    "else:\n",
    "    print('False')"
   ]
  },
  {
   "cell_type": "code",
   "execution_count": 39,
   "id": "ca126d1f-a0fa-4b2d-a909-78c96c7132dd",
   "metadata": {},
   "outputs": [
    {
     "name": "stdout",
     "output_type": "stream",
     "text": [
      "5\n"
     ]
    }
   ],
   "source": [
    "num = 5\n",
    "value = num if num >=0 else 0\n",
    "print(value)"
   ]
  },
  {
   "cell_type": "code",
   "execution_count": 40,
   "id": "562393a6-2d4b-4a7f-96bd-b5553f05fa7f",
   "metadata": {},
   "outputs": [
    {
     "name": "stdout",
     "output_type": "stream",
     "text": [
      "5\n"
     ]
    }
   ],
   "source": [
    "num = 5\n",
    "if num >= 0:\n",
    "    value = num\n",
    "else:\n",
    "    value = 0\n",
    "print(value)"
   ]
  },
  {
   "cell_type": "code",
   "execution_count": 41,
   "id": "71f1b26e-1517-4460-9f3d-5b1bf8713d09",
   "metadata": {},
   "outputs": [
    {
     "name": "stdout",
     "output_type": "stream",
     "text": [
      "짝수\n"
     ]
    }
   ],
   "source": [
    "num = 2\n",
    "if num % 2 == 1:\n",
    "    result = '홀수'\n",
    "else:\n",
    "    result = '짝수'\n",
    "\n",
    "print(result)"
   ]
  },
  {
   "cell_type": "code",
   "execution_count": 44,
   "id": "d60f6b9f-4990-4a24-8a6c-b87e3226544a",
   "metadata": {},
   "outputs": [
    {
     "name": "stdout",
     "output_type": "stream",
     "text": [
      "짝수\n"
     ]
    }
   ],
   "source": [
    "num = 2\n",
    "result = '홀수' if num % 2 == 1 else '짝수'\n",
    "print(result)"
   ]
  },
  {
   "cell_type": "markdown",
   "id": "dc41b53a-d15d-45e9-b74c-84cd98a56a34",
   "metadata": {},
   "source": [
    "# 반복문\n",
    "\n",
    "## while 문\n",
    "\n",
    "```\n",
    "while <조건식>:\n",
    "    실행할 코드\n",
    "```"
   ]
  },
  {
   "cell_type": "code",
   "execution_count": 2,
   "id": "27a8a21e-5178-4feb-9f0c-f3de4aee6bde",
   "metadata": {},
   "outputs": [
    {
     "name": "stdout",
     "output_type": "stream",
     "text": [
      "0\n",
      "1\n",
      "2\n",
      "3\n",
      "4\n"
     ]
    }
   ],
   "source": [
    "a = 0\n",
    "\n",
    "while a < 5:\n",
    "    print(a)\n",
    "    a += 1       # a = a+1"
   ]
  },
  {
   "cell_type": "code",
   "execution_count": 4,
   "id": "6a3e0676-90f5-47d9-8ee9-74511917bd26",
   "metadata": {},
   "outputs": [
    {
     "name": "stdin",
     "output_type": "stream",
     "text": [
      "안녕이라고해줘 :  메롱\n",
      "안녕이라고해줘 :  하이\n",
      "안녕이라고해줘 :  헬로우\n",
      "안녕이라고해줘 :  싫은데\n",
      "안녕이라고해줘 :  안녕\n"
     ]
    }
   ],
   "source": [
    "# 사용자가 '안녕' 이라고 할때까지 계속 입력을 요청받는 코드\n",
    "\n",
    "greeting = ''     # 초기화\n",
    "\n",
    "while greeting != '안녕':\n",
    "    greeting = input('안녕이라고해줘 : ')"
   ]
  },
  {
   "cell_type": "markdown",
   "id": "505c6bfe-d7b5-40eb-87e4-420c4a129246",
   "metadata": {},
   "source": [
    "## for\n",
    "\n",
    "정해진 범위 내의 반복\n",
    "\n",
    "\n",
    "```\n",
    "for variable in sequence:\n",
    "    code\n",
    "```"
   ]
  },
  {
   "cell_type": "code",
   "execution_count": 5,
   "id": "1dce749e-a9fc-4023-9140-6fdd1a68884f",
   "metadata": {},
   "outputs": [
    {
     "name": "stdout",
     "output_type": "stream",
     "text": [
      "1\n",
      "2\n",
      "3\n",
      "4\n",
      "5\n"
     ]
    }
   ],
   "source": [
    "numbers = [1,2,3,4,5]\n",
    "\n",
    "for number in numbers:\n",
    "    print(number)"
   ]
  },
  {
   "cell_type": "code",
   "execution_count": 6,
   "id": "c681cf4c-f0eb-4551-882c-ed7d5b8e66ac",
   "metadata": {},
   "outputs": [
    {
     "name": "stdin",
     "output_type": "stream",
     "text": [
      "단어를 입력해주세요:  apple\n"
     ]
    },
    {
     "name": "stdout",
     "output_type": "stream",
     "text": [
      "a\n",
      "p\n",
      "p\n",
      "l\n",
      "e\n"
     ]
    }
   ],
   "source": [
    "# for 문을 사용해 사용자가 입력한 데이터를 한글자씩 출력하는 코드\n",
    "\n",
    "word = input('단어를 입력해주세요: ')\n",
    "\n",
    "for char in word:\n",
    "    print(char)"
   ]
  },
  {
   "cell_type": "code",
   "execution_count": 11,
   "id": "a475ed01-6311-4e2d-bf35-9f7d1f636a0f",
   "metadata": {},
   "outputs": [
    {
     "name": "stdout",
     "output_type": "stream",
     "text": [
      "0\n",
      "1\n",
      "2\n",
      "3\n",
      "4\n"
     ]
    }
   ],
   "source": [
    "for i in range(5):           # range\n",
    "    print(i)"
   ]
  },
  {
   "cell_type": "code",
   "execution_count": 10,
   "id": "368d1faa-4a9f-4ad6-9759-ddcb2a300bb5",
   "metadata": {},
   "outputs": [
    {
     "name": "stdout",
     "output_type": "stream",
     "text": [
      "1\n",
      "2\n",
      "3\n",
      "4\n",
      "5\n"
     ]
    }
   ],
   "source": [
    "for i in (1,2,3,4,5):        # Tuple\n",
    "    print(i)"
   ]
  },
  {
   "cell_type": "code",
   "execution_count": 24,
   "id": "34ce05a3-27b9-4843-92ca-4e3995acd743",
   "metadata": {},
   "outputs": [
    {
     "name": "stdout",
     "output_type": "stream",
     "text": [
      "[1, 3, 5, 7, 9, 11, 13, 15, 17, 19, 21, 23, 25, 27, 29]\n"
     ]
    }
   ],
   "source": [
    "# 1. 1~30까지 숫자 중에서 홀수 출력\n",
    "# 2. 1~30까지 숫자 중에서 홀수들을 모아 리스트로 출력\n",
    "\n",
    "numbers = range(31)\n",
    "result = []\n",
    "\n",
    "for number in numbers:\n",
    "    if number % 2 == 1:\n",
    "        # print(number)\n",
    "        result.append(number)\n",
    "\n",
    "print(result)"
   ]
  },
  {
   "cell_type": "code",
   "execution_count": 31,
   "id": "340f8467-7431-4c32-acb6-3090bd161db9",
   "metadata": {},
   "outputs": [
    {
     "name": "stdout",
     "output_type": "stream",
     "text": [
      "0\n",
      "샌드위치\n",
      "1\n",
      "김밥\n",
      "2\n",
      "쿠키\n"
     ]
    }
   ],
   "source": [
    "menus = ['샌드위치', '김밥', '쿠키']\n",
    "\n",
    "for menu in enumerate(menus):\n",
    "    print(menu[0])\n",
    "    print(menu[1])"
   ]
  },
  {
   "cell_type": "code",
   "execution_count": 29,
   "id": "4c4de97b-7a36-4d4d-88a2-b8c81f8793ae",
   "metadata": {},
   "outputs": [
    {
     "data": {
      "text/plain": [
       "<enumerate at 0x10bad9850>"
      ]
     },
     "execution_count": 29,
     "metadata": {},
     "output_type": "execute_result"
    }
   ],
   "source": [
    "enumerate(menus)"
   ]
  },
  {
   "cell_type": "code",
   "execution_count": 34,
   "id": "1df173f4-82ba-42d5-a2d2-e46ebce4c922",
   "metadata": {},
   "outputs": [
    {
     "name": "stdout",
     "output_type": "stream",
     "text": [
      "0\n",
      "샌드위치\n",
      "1\n",
      "김밥\n",
      "2\n",
      "쿠키\n"
     ]
    }
   ],
   "source": [
    "menus = ['샌드위치', '김밥', '쿠키']\n",
    "\n",
    "for idx, menu in enumerate(menus):\n",
    "    print(idx)\n",
    "    print(menu)"
   ]
  },
  {
   "cell_type": "markdown",
   "id": "43cc53d8-b041-4ff3-8b92-651198c2fdb3",
   "metadata": {},
   "source": [
    "## dictionary 반복\n",
    "\n",
    "1. for key in dict:\n",
    "2. for key in dict.keys():\n",
    "3. for value in dict.values():\n",
    "4. for key, value in dict.items():"
   ]
  },
  {
   "cell_type": "code",
   "execution_count": 38,
   "id": "a308dd79-0732-49c2-ac1c-372d13efb084",
   "metadata": {},
   "outputs": [],
   "source": [
    "info = {\n",
    "    'name': 'pyj',\n",
    "    'location': 'dg',\n",
    "    'phone': '010-1234-1234',\n",
    "}"
   ]
  },
  {
   "cell_type": "code",
   "execution_count": 39,
   "id": "eeb04ecc-012a-438d-9894-c8db22a0e712",
   "metadata": {},
   "outputs": [
    {
     "name": "stdout",
     "output_type": "stream",
     "text": [
      "name\n",
      "pyj\n",
      "location\n",
      "dg\n",
      "phone\n",
      "010-1234-1234\n"
     ]
    }
   ],
   "source": [
    "for i in info:\n",
    "    print(i)\n",
    "    print(info[i])"
   ]
  },
  {
   "cell_type": "code",
   "execution_count": 40,
   "id": "37e63ad3-ce37-4893-b4ef-dc16dfec193f",
   "metadata": {},
   "outputs": [],
   "source": [
    "blood_type = {\n",
    "    'A': 5,\n",
    "    'B': 4,\n",
    "    'O': 2,\n",
    "    'AB': 3,\n",
    "}"
   ]
  },
  {
   "cell_type": "code",
   "execution_count": 42,
   "id": "9ae5ad92-e0fb-420c-aac5-8098cd28a326",
   "metadata": {},
   "outputs": [
    {
     "name": "stdout",
     "output_type": "stream",
     "text": [
      "혈액형 목록은 다음과 같습니다.\n",
      "A\n",
      "B\n",
      "O\n",
      "AB\n"
     ]
    }
   ],
   "source": [
    "print('혈액형 목록은 다음과 같습니다.')\n",
    "for key in blood_type:\n",
    "    print(key)"
   ]
  },
  {
   "cell_type": "code",
   "execution_count": 43,
   "id": "ff999a5e-47da-4266-b75f-06ddfed6093f",
   "metadata": {},
   "outputs": [
    {
     "name": "stdout",
     "output_type": "stream",
     "text": [
      "혈액형 목록은 다음과 같습니다.\n",
      "A\n",
      "B\n",
      "O\n",
      "AB\n"
     ]
    }
   ],
   "source": [
    "print('혈액형 목록은 다음과 같습니다.')\n",
    "for key in blood_type.keys():\n",
    "    print(key)"
   ]
  },
  {
   "cell_type": "code",
   "execution_count": 46,
   "id": "28a2bfd2-ef18-48f6-8bf1-0348498d9585",
   "metadata": {},
   "outputs": [
    {
     "name": "stdout",
     "output_type": "stream",
     "text": [
      "총 인원은 14명입니다.\n"
     ]
    }
   ],
   "source": [
    "result = 0\n",
    "\n",
    "for value in blood_type.values():\n",
    "    result = result + value\n",
    "print(f'총 인원은 {result}명입니다.')"
   ]
  },
  {
   "cell_type": "code",
   "execution_count": 49,
   "id": "3412cfdb-a655-4261-9c82-6ac5ddf8a9e7",
   "metadata": {},
   "outputs": [
    {
     "name": "stdout",
     "output_type": "stream",
     "text": [
      "A형은 5명입니다.\n",
      "B형은 4명입니다.\n",
      "O형은 2명입니다.\n",
      "AB형은 3명입니다.\n"
     ]
    }
   ],
   "source": [
    "for key, value in blood_type.items():\n",
    "    print(f'{key}형은 {value}명입니다.')"
   ]
  },
  {
   "cell_type": "code",
   "execution_count": 48,
   "id": "cd56b8dd-9964-411d-8cbb-063783f9e424",
   "metadata": {},
   "outputs": [
    {
     "data": {
      "text/plain": [
       "dict_items([('A', 5), ('B', 4), ('O', 2), ('AB', 3)])"
      ]
     },
     "execution_count": 48,
     "metadata": {},
     "output_type": "execute_result"
    }
   ],
   "source": [
    "blood_type.items()"
   ]
  },
  {
   "cell_type": "markdown",
   "id": "be879a14-1448-49a8-a019-25fa3737c24a",
   "metadata": {},
   "source": [
    "### break\n",
    "\n",
    "반복문을 종료시키는 키워드"
   ]
  },
  {
   "cell_type": "code",
   "execution_count": 51,
   "id": "94997a8c-631d-4898-a63e-147769e38eb2",
   "metadata": {},
   "outputs": [
    {
     "name": "stdout",
     "output_type": "stream",
     "text": [
      "0\n",
      "1\n",
      "2\n",
      "3\n",
      "4\n",
      "5\n",
      "6\n",
      "7\n",
      "8\n",
      "9\n",
      "10\n",
      "10넘었어\n"
     ]
    }
   ],
   "source": [
    "for i in range(100):\n",
    "    if i > 10:\n",
    "        print('10넘었어')\n",
    "        break\n",
    "    print(i)"
   ]
  },
  {
   "cell_type": "code",
   "execution_count": 52,
   "id": "07f75d77-2bdb-42c1-a187-f3c547735b5a",
   "metadata": {},
   "outputs": [],
   "source": [
    "rice = ['보리', '보리', '보리', '쌀', '보리', '보리']"
   ]
  },
  {
   "cell_type": "code",
   "execution_count": 55,
   "id": "4d40d42a-5816-42ac-8265-af210c579fd9",
   "metadata": {},
   "outputs": [
    {
     "name": "stdout",
     "output_type": "stream",
     "text": [
      "보리\n",
      "보리\n",
      "보리\n",
      "쌀\n",
      "잡았다!\n"
     ]
    }
   ],
   "source": [
    "for i in rice:\n",
    "    print(i)\n",
    "    if i == '쌀':\n",
    "        print('잡았다!')\n",
    "        break"
   ]
  },
  {
   "cell_type": "markdown",
   "id": "75e0f155-cc1f-49a4-a48a-239428024290",
   "metadata": {},
   "source": [
    "### continue\n",
    "\n",
    "continue 이후의 코드를 실행하지 않고 다음 반복을 진행"
   ]
  },
  {
   "cell_type": "code",
   "execution_count": 58,
   "id": "88575773-9933-4f65-ba62-8d9dbc438092",
   "metadata": {},
   "outputs": [
    {
     "name": "stdout",
     "output_type": "stream",
     "text": [
      "0\n",
      "2\n",
      "4\n",
      "6\n",
      "8\n"
     ]
    }
   ],
   "source": [
    "for i in range(10):\n",
    "    if i % 2:\n",
    "        continue\n",
    "    print(i)"
   ]
  },
  {
   "cell_type": "code",
   "execution_count": 59,
   "id": "8a255c87-8583-4a43-a541-55a07b228628",
   "metadata": {},
   "outputs": [
    {
     "name": "stdout",
     "output_type": "stream",
     "text": [
      "성인입니다\n",
      "성인입니다\n",
      "성인입니다\n"
     ]
    }
   ],
   "source": [
    "age = [10, 35, 20, 18, 9, 40]\n",
    "\n",
    "for a in age:\n",
    "    if a < 20:\n",
    "        continue\n",
    "    print('성인입니다')"
   ]
  },
  {
   "cell_type": "markdown",
   "id": "3cd30591-41c8-4fdc-b158-99265c9a07a7",
   "metadata": {},
   "source": [
    "### else\n",
    "\n",
    "else 문은 끝까지 반복이 진행된 후 실행됩니다."
   ]
  },
  {
   "cell_type": "code",
   "execution_count": 62,
   "id": "4b545aff-ff47-4fa3-b2af-d1464821376e",
   "metadata": {},
   "outputs": [
    {
     "name": "stdout",
     "output_type": "stream",
     "text": [
      "0\n",
      "1\n",
      "2\n",
      "3\n",
      "4\n",
      "5\n",
      "6\n",
      "7\n",
      "8\n",
      "9\n",
      "break 못만남\n"
     ]
    }
   ],
   "source": [
    "for i in range(10):\n",
    "    if i > 100:\n",
    "        break\n",
    "    print(i)\n",
    "else:\n",
    "    print('break 못만남')"
   ]
  },
  {
   "cell_type": "code",
   "execution_count": 63,
   "id": "79a09037-6043-44f1-af32-3f93fb75e3ef",
   "metadata": {},
   "outputs": [
    {
     "name": "stdout",
     "output_type": "stream",
     "text": [
      "0\n",
      "1\n",
      "2\n",
      "3\n",
      "4\n",
      "5\n"
     ]
    }
   ],
   "source": [
    "for i in range(10):\n",
    "    if i > 5:\n",
    "        break\n",
    "    print(i)\n",
    "else:\n",
    "    print('break 못만남')"
   ]
  },
  {
   "cell_type": "code",
   "execution_count": 65,
   "id": "26d75c7d-75be-4a0e-a67b-24ad56120d3d",
   "metadata": {},
   "outputs": [
    {
     "name": "stdout",
     "output_type": "stream",
     "text": [
      "True\n",
      "False\n"
     ]
    }
   ],
   "source": [
    "numbers = [1,3,5,7,9]\n",
    "print(3 in numbers)\n",
    "print(2 in numbers)"
   ]
  },
  {
   "cell_type": "code",
   "execution_count": 81,
   "id": "44ecdb6f-48a8-491c-949d-b44a0721e2b5",
   "metadata": {},
   "outputs": [
    {
     "name": "stdout",
     "output_type": "stream",
     "text": [
      "True\n",
      "False\n"
     ]
    }
   ],
   "source": [
    "# 내가 한 거\n",
    "numbers = [1,3,5,7,9]\n",
    "\n",
    "for number in numbers:\n",
    "    if number == 3:\n",
    "        print('True')\n",
    "    if number == 2:\n",
    "        print('True')\n",
    "else:\n",
    "    print('False')"
   ]
  },
  {
   "cell_type": "code",
   "execution_count": 83,
   "id": "0980d767-2954-484c-a12d-f740c97f0561",
   "metadata": {},
   "outputs": [
    {
     "name": "stdout",
     "output_type": "stream",
     "text": [
      "False\n"
     ]
    }
   ],
   "source": [
    "numbers = [1,3,5,7,9]\n",
    "target = 4\n",
    "\n",
    "for number in numbers:\n",
    "    # if문을 통해 내가 원하는 숫자가 있으면 True\n",
    "    if number == target:\n",
    "        print('True')\n",
    "        break\n",
    "else:\n",
    "    print('False')"
   ]
  },
  {
   "cell_type": "markdown",
   "id": "5ed6793d-8057-47d1-88ec-7d66e880213d",
   "metadata": {},
   "source": [
    "### pass\n",
    "class, 함수 구조 먼저 잡을때 사용"
   ]
  },
  {
   "cell_type": "code",
   "execution_count": 84,
   "id": "c6c80aab-1f4e-4755-8281-c5a5d6ce1a80",
   "metadata": {},
   "outputs": [],
   "source": [
    "if True:\n",
    "    pass"
   ]
  },
  {
   "cell_type": "markdown",
   "id": "ae393f36-8376-4378-b9ce-a4f9d7232bb7",
   "metadata": {},
   "source": [
    "### match\n",
    "\n",
    "```\n",
    "match value:\n",
    "    case 조건:\n",
    "        code\n",
    "    case 조건:\n",
    "        code\n",
    "    case _:\n",
    "        code\n",
    "```"
   ]
  },
  {
   "cell_type": "code",
   "execution_count": 86,
   "id": "12f8f4d2-9fc1-4728-9de2-7dbe9c8d726f",
   "metadata": {},
   "outputs": [
    {
     "name": "stdout",
     "output_type": "stream",
     "text": [
      "Not Found\n"
     ]
    }
   ],
   "source": [
    "status = 404\n",
    "\n",
    "match status:\n",
    "    case 400:\n",
    "        print('Bad request')\n",
    "    case 404:\n",
    "        print('Not Found')\n",
    "    case _:\n",
    "        print('something is wrong')"
   ]
  },
  {
   "cell_type": "code",
   "execution_count": null,
   "id": "3240383b-6014-4f38-92d2-2aa1cd004e80",
   "metadata": {},
   "outputs": [],
   "source": []
  }
 ],
 "metadata": {
  "kernelspec": {
   "display_name": "Python 3 (ipykernel)",
   "language": "python",
   "name": "python3"
  },
  "language_info": {
   "codemirror_mode": {
    "name": "ipython",
    "version": 3
   },
   "file_extension": ".py",
   "mimetype": "text/x-python",
   "name": "python",
   "nbconvert_exporter": "python",
   "pygments_lexer": "ipython3",
   "version": "3.11.4"
  }
 },
 "nbformat": 4,
 "nbformat_minor": 5
}
