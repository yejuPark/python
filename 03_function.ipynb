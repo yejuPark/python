{
 "cells": [
  {
   "cell_type": "markdown",
   "id": "917ca6da-f6f5-4790-b81a-35b8f0842512",
   "metadata": {},
   "source": [
    "# 함수 (function)"
   ]
  },
  {
   "cell_type": "code",
   "execution_count": 3,
   "id": "66207e11-c668-4251-b3c4-b213c8e6f2ca",
   "metadata": {},
   "outputs": [
    {
     "name": "stdout",
     "output_type": "stream",
     "text": [
      "직사각형의 둘레는 60, 면적은 200 입니다.\n",
      "직사각형의 둘레는 260, 면적은 4000 입니다.\n"
     ]
    }
   ],
   "source": [
    "height = 10\n",
    "width = 20\n",
    "\n",
    "height2 = 50\n",
    "width2 = 80\n",
    "\n",
    "# 직사각형의 둘레는 ***, 면적은 *** 입니다.\n",
    "\n",
    "area = height * width\n",
    "perimeter = (height + width) * 2\n",
    "print(f'직사각형의 둘레는 {perimeter}, 면적은 {area} 입니다.')\n",
    "\n",
    "area = height2 * width2\n",
    "perimeter = (height2 + width2) * 2\n",
    "print(f'직사각형의 둘레는 {perimeter}, 면적은 {area} 입니다.')"
   ]
  },
  {
   "cell_type": "markdown",
   "id": "2d251d8a-fbcf-4fe7-9686-0916b9be1a8b",
   "metadata": {},
   "source": [
    "## 함수의 선언과 호출\n",
    "\n",
    "- 함수의 선언\n",
    "```python\n",
    "def func_name(parameter1, parameter2...):\n",
    "    code1\n",
    "    code2\n",
    "    ...\n",
    "    return value\n",
    "```\n",
    "\n",
    "- 함수의 호출(실행)\n",
    "```\n",
    "func_name(parameter1, parameter2)\n",
    "```"
   ]
  },
  {
   "cell_type": "code",
   "execution_count": 5,
   "id": "883a9c00-28a4-4c72-bfb9-072a1332ec63",
   "metadata": {},
   "outputs": [],
   "source": [
    "def rectangle(height, width):\n",
    "    area = height * width\n",
    "    perimeter = (height + width) * 2\n",
    "    print(f'직사각형의 둘레는 {perimeter}, 면적은 {area} 입니다.')"
   ]
  },
  {
   "cell_type": "code",
   "execution_count": 7,
   "id": "7a0c5d74-2fd4-4c5e-8f03-c7ce0843f2f4",
   "metadata": {},
   "outputs": [
    {
     "name": "stdout",
     "output_type": "stream",
     "text": [
      "직사각형의 둘레는 60, 면적은 200 입니다.\n",
      "직사각형의 둘레는 150, 면적은 1350 입니다.\n"
     ]
    }
   ],
   "source": [
    "rectangle(10,20)\n",
    "rectangle(30,45)"
   ]
  },
  {
   "cell_type": "code",
   "execution_count": 9,
   "id": "0e56ecd4-5361-4329-b0ab-d0a6de3efd97",
   "metadata": {},
   "outputs": [
    {
     "data": {
      "text/plain": [
       "['ArithmeticError',\n",
       " 'AssertionError',\n",
       " 'AttributeError',\n",
       " 'BaseException',\n",
       " 'BaseExceptionGroup',\n",
       " 'BlockingIOError',\n",
       " 'BrokenPipeError',\n",
       " 'BufferError',\n",
       " 'BytesWarning',\n",
       " 'ChildProcessError',\n",
       " 'ConnectionAbortedError',\n",
       " 'ConnectionError',\n",
       " 'ConnectionRefusedError',\n",
       " 'ConnectionResetError',\n",
       " 'DeprecationWarning',\n",
       " 'EOFError',\n",
       " 'Ellipsis',\n",
       " 'EncodingWarning',\n",
       " 'EnvironmentError',\n",
       " 'Exception',\n",
       " 'ExceptionGroup',\n",
       " 'False',\n",
       " 'FileExistsError',\n",
       " 'FileNotFoundError',\n",
       " 'FloatingPointError',\n",
       " 'FutureWarning',\n",
       " 'GeneratorExit',\n",
       " 'IOError',\n",
       " 'ImportError',\n",
       " 'ImportWarning',\n",
       " 'IndentationError',\n",
       " 'IndexError',\n",
       " 'InterruptedError',\n",
       " 'IsADirectoryError',\n",
       " 'KeyError',\n",
       " 'KeyboardInterrupt',\n",
       " 'LookupError',\n",
       " 'MemoryError',\n",
       " 'ModuleNotFoundError',\n",
       " 'NameError',\n",
       " 'None',\n",
       " 'NotADirectoryError',\n",
       " 'NotImplemented',\n",
       " 'NotImplementedError',\n",
       " 'OSError',\n",
       " 'OverflowError',\n",
       " 'PendingDeprecationWarning',\n",
       " 'PermissionError',\n",
       " 'ProcessLookupError',\n",
       " 'RecursionError',\n",
       " 'ReferenceError',\n",
       " 'ResourceWarning',\n",
       " 'RuntimeError',\n",
       " 'RuntimeWarning',\n",
       " 'StopAsyncIteration',\n",
       " 'StopIteration',\n",
       " 'SyntaxError',\n",
       " 'SyntaxWarning',\n",
       " 'SystemError',\n",
       " 'SystemExit',\n",
       " 'TabError',\n",
       " 'TimeoutError',\n",
       " 'True',\n",
       " 'TypeError',\n",
       " 'UnboundLocalError',\n",
       " 'UnicodeDecodeError',\n",
       " 'UnicodeEncodeError',\n",
       " 'UnicodeError',\n",
       " 'UnicodeTranslateError',\n",
       " 'UnicodeWarning',\n",
       " 'UserWarning',\n",
       " 'ValueError',\n",
       " 'Warning',\n",
       " 'ZeroDivisionError',\n",
       " '__IPYTHON__',\n",
       " '__build_class__',\n",
       " '__debug__',\n",
       " '__doc__',\n",
       " '__import__',\n",
       " '__loader__',\n",
       " '__name__',\n",
       " '__package__',\n",
       " '__spec__',\n",
       " 'abs',\n",
       " 'aiter',\n",
       " 'all',\n",
       " 'anext',\n",
       " 'any',\n",
       " 'ascii',\n",
       " 'bin',\n",
       " 'bool',\n",
       " 'breakpoint',\n",
       " 'bytearray',\n",
       " 'bytes',\n",
       " 'callable',\n",
       " 'chr',\n",
       " 'classmethod',\n",
       " 'compile',\n",
       " 'complex',\n",
       " 'copyright',\n",
       " 'credits',\n",
       " 'delattr',\n",
       " 'dict',\n",
       " 'dir',\n",
       " 'display',\n",
       " 'divmod',\n",
       " 'enumerate',\n",
       " 'eval',\n",
       " 'exec',\n",
       " 'execfile',\n",
       " 'filter',\n",
       " 'float',\n",
       " 'format',\n",
       " 'frozenset',\n",
       " 'get_ipython',\n",
       " 'getattr',\n",
       " 'globals',\n",
       " 'hasattr',\n",
       " 'hash',\n",
       " 'help',\n",
       " 'hex',\n",
       " 'id',\n",
       " 'input',\n",
       " 'int',\n",
       " 'isinstance',\n",
       " 'issubclass',\n",
       " 'iter',\n",
       " 'len',\n",
       " 'license',\n",
       " 'list',\n",
       " 'locals',\n",
       " 'map',\n",
       " 'max',\n",
       " 'memoryview',\n",
       " 'min',\n",
       " 'next',\n",
       " 'object',\n",
       " 'oct',\n",
       " 'open',\n",
       " 'ord',\n",
       " 'pow',\n",
       " 'print',\n",
       " 'property',\n",
       " 'range',\n",
       " 'repr',\n",
       " 'reversed',\n",
       " 'round',\n",
       " 'runfile',\n",
       " 'set',\n",
       " 'setattr',\n",
       " 'slice',\n",
       " 'sorted',\n",
       " 'staticmethod',\n",
       " 'str',\n",
       " 'sum',\n",
       " 'super',\n",
       " 'tuple',\n",
       " 'type',\n",
       " 'vars',\n",
       " 'zip']"
      ]
     },
     "execution_count": 9,
     "metadata": {},
     "output_type": "execute_result"
    }
   ],
   "source": [
    "dir(__builtins__)"
   ]
  },
  {
   "cell_type": "code",
   "execution_count": 10,
   "id": "7a4162f3-f629-4159-8b19-4dae827f209d",
   "metadata": {},
   "outputs": [
    {
     "data": {
      "text/plain": [
       "5"
      ]
     },
     "execution_count": 10,
     "metadata": {},
     "output_type": "execute_result"
    }
   ],
   "source": [
    "max(1,5)"
   ]
  },
  {
   "cell_type": "code",
   "execution_count": 22,
   "id": "89add638-8332-4334-abf9-1631e35bab89",
   "metadata": {},
   "outputs": [],
   "source": [
    "# 큰 수를 출력\n",
    "\n",
    "def my_max(a,b):\n",
    "    if a > b:\n",
    "        print(f'{a}가 더 큽니다.')\n",
    "    elif a < b:\n",
    "        print(f'{b}가 더 큽니다.')\n",
    "    else:\n",
    "        print('두 수가 같습니다.')"
   ]
  },
  {
   "cell_type": "code",
   "execution_count": 32,
   "id": "0293392d-e779-4302-a39c-9229c5ec0d35",
   "metadata": {},
   "outputs": [
    {
     "name": "stdout",
     "output_type": "stream",
     "text": [
      "4727344가 더 큽니다.\n",
      "None\n",
      "2가 더 큽니다.\n"
     ]
    }
   ],
   "source": [
    "result = my_max(10,4727344)\n",
    "print(result)\n",
    "\n",
    "my_max(1,2)"
   ]
  },
  {
   "cell_type": "markdown",
   "id": "95ad9455-5b58-4147-8923-87d4e1cb54de",
   "metadata": {},
   "source": [
    "## 함수의 return\n",
    "\n",
    "- 함수가 return 을 만나면 해당 값을 반환하고 함수를 종료\n",
    "- 만약 return 이 없다면 None 을 자동으로 반환\n",
    "- return 은 오직 하나의 객체만 반환합니다."
   ]
  },
  {
   "cell_type": "code",
   "execution_count": 37,
   "id": "2de36d22-bfd2-408b-8c44-00f9cdbc6e27",
   "metadata": {},
   "outputs": [],
   "source": [
    "# 큰 수를 반환\n",
    "\n",
    "def my_max2(a,b):\n",
    "\n",
    "    # return 'hello'\n",
    "    \n",
    "    if a > b:\n",
    "        return a\n",
    "    elif a < b:\n",
    "        return b\n",
    "    else:\n",
    "        return 0"
   ]
  },
  {
   "cell_type": "code",
   "execution_count": 38,
   "id": "35712235-b2f7-4cfa-950d-2f20021c49b5",
   "metadata": {},
   "outputs": [
    {
     "name": "stdout",
     "output_type": "stream",
     "text": [
      "2가 더 큽니다.\n"
     ]
    }
   ],
   "source": [
    "result = my_max2(1,2)\n",
    "print(f'{result}가 더 큽니다.')"
   ]
  },
  {
   "cell_type": "code",
   "execution_count": 42,
   "id": "34eb619a-7464-46ea-9682-79d1ec341a88",
   "metadata": {},
   "outputs": [],
   "source": [
    "def my_list_max(list_a, list_b):\n",
    "    if sum(list_a) > sum(list_b):\n",
    "        return list_a, 123\n",
    "    else:\n",
    "        return list_b, 111\n",
    "        "
   ]
  },
  {
   "cell_type": "code",
   "execution_count": 43,
   "id": "0542b98e-ed2e-4f01-bea5-c34fd92e3684",
   "metadata": {},
   "outputs": [
    {
     "data": {
      "text/plain": [
       "([11, 12], 111)"
      ]
     },
     "execution_count": 43,
     "metadata": {},
     "output_type": "execute_result"
    }
   ],
   "source": [
    "my_list_max([10,11], [11,12])"
   ]
  },
  {
   "cell_type": "markdown",
   "id": "a6205c3c-a7f6-46dc-acbc-40b9463b345d",
   "metadata": {},
   "source": [
    "## 함수의 인수\n",
    "\n",
    "### 위치 인수\n",
    "기본적으로 함수는 인수의 위치로 판단합니다.\n"
   ]
  },
  {
   "cell_type": "code",
   "execution_count": 6,
   "id": "cc118552-b181-4a05-839a-9b5ff0adb5a2",
   "metadata": {},
   "outputs": [
    {
     "name": "stdout",
     "output_type": "stream",
     "text": [
      "1570.0\n",
      "785.0\n"
     ]
    }
   ],
   "source": [
    "def cylinder(r, h):\n",
    "    return 3.14 * r**2 * h\n",
    "\n",
    "print(cylinder(10, 5))\n",
    "print(cylinder(5,10))"
   ]
  },
  {
   "cell_type": "markdown",
   "id": "e2aa2b63-5cc4-4b3a-9ab5-982614c743b3",
   "metadata": {},
   "source": [
    "### 기본값\n",
    "\n",
    "```python\n",
    "def func(p1=v1):\n",
    "    return v1\n",
    "```"
   ]
  },
  {
   "cell_type": "code",
   "execution_count": 10,
   "id": "ca510db3-b2c8-4ab7-a820-cfd06b7cd565",
   "metadata": {},
   "outputs": [
    {
     "name": "stdout",
     "output_type": "stream",
     "text": [
      "예주님 반갑습니다.\n",
      "익명님 반갑습니다.\n"
     ]
    }
   ],
   "source": [
    "def greeting(name='익명'):\n",
    "    return f'{name}님 반갑습니다.'\n",
    "\n",
    "print(greeting('예주'))\n",
    "print(greeting())"
   ]
  },
  {
   "cell_type": "code",
   "execution_count": 15,
   "id": "a0a92e24-7484-47de-a368-0243715fe1ff",
   "metadata": {},
   "outputs": [
    {
     "name": "stdout",
     "output_type": "stream",
     "text": [
      "홍님은 10살입니다.\n",
      "익명님은 20살입니다.\n"
     ]
    }
   ],
   "source": [
    "def greeting(age, name='익명'):\n",
    "    return f'{name}님은 {age}살입니다.'\n",
    "\n",
    "print(greeting(10, '홍'))\n",
    "print(greeting(20))"
   ]
  },
  {
   "cell_type": "markdown",
   "id": "57f2c754-65c6-4962-9d81-195a4da925d7",
   "metadata": {},
   "source": [
    "### 키워드 인자\n",
    "함수를 호출(실행)할 때, 내가 원하는 위치에 직접적으로 특정인자를 전달가능"
   ]
  },
  {
   "cell_type": "code",
   "execution_count": 16,
   "id": "1c1ea781-698d-4483-ac05-16379982fcf5",
   "metadata": {},
   "outputs": [
    {
     "name": "stdout",
     "output_type": "stream",
     "text": [
      "홍님은 10살입니다.\n",
      "홍님은 10살입니다.\n"
     ]
    }
   ],
   "source": [
    "def greeting(age, name='익명'):\n",
    "    return f'{name}님은 {age}살입니다.'\n",
    "\n",
    "print(greeting(10,'홍'))\n",
    "print(greeting(name='홍', age=10))"
   ]
  },
  {
   "cell_type": "code",
   "execution_count": 20,
   "id": "c12e0214-1e35-4604-9963-35ee065aa37d",
   "metadata": {},
   "outputs": [
    {
     "name": "stdout",
     "output_type": "stream",
     "text": [
      "안녕\n",
      "안녕!하세요!선생님?"
     ]
    }
   ],
   "source": [
    "print('안녕')\n",
    "print('안녕','하세요','선생님', sep='!', end='?')"
   ]
  },
  {
   "cell_type": "markdown",
   "id": "2a76440a-d104-4fbd-8515-1f8a66dacfbd",
   "metadata": {},
   "source": [
    "### 가변 인자 리스트\n",
    "```python\n",
    "def func(*params):\n",
    "    pass\n",
    "```"
   ]
  },
  {
   "cell_type": "code",
   "execution_count": 22,
   "id": "55ab593e-57dc-4dca-9f4e-b449c41fabed",
   "metadata": {},
   "outputs": [
    {
     "name": "stdout",
     "output_type": "stream",
     "text": [
      "('a', 'b', 'c', 'd', 'e', 'f')\n",
      "<class 'tuple'>\n"
     ]
    }
   ],
   "source": [
    "def my_print(*words):\n",
    "    print(words)\n",
    "    print(type(words))\n",
    "\n",
    "my_print('a','b','c','d','e','f')"
   ]
  },
  {
   "cell_type": "code",
   "execution_count": 32,
   "id": "2efb3c5f-b4fe-411b-9657-7ba15cb1eab6",
   "metadata": {},
   "outputs": [],
   "source": [
    "def my_max(*numbers):\n",
    "    print(max(numbers))"
   ]
  },
  {
   "cell_type": "code",
   "execution_count": 33,
   "id": "d0c5a2de-1a28-4e4c-ab06-19801a9d803d",
   "metadata": {},
   "outputs": [
    {
     "name": "stdout",
     "output_type": "stream",
     "text": [
      "-1\n"
     ]
    }
   ],
   "source": [
    "my_max(-1,-2,-3,-4)"
   ]
  },
  {
   "cell_type": "code",
   "execution_count": 34,
   "id": "d2fc6040-cd40-4de1-b598-09d8f878623c",
   "metadata": {},
   "outputs": [],
   "source": [
    "def my_max(*numbers):\n",
    "    result = numbers[0]\n",
    "    for number in numbers:\n",
    "        if result < number:\n",
    "            result = number\n",
    "\n",
    "    return result"
   ]
  },
  {
   "cell_type": "code",
   "execution_count": 35,
   "id": "9e352a22-e8f7-4c52-a0bf-656fcf3e1461",
   "metadata": {},
   "outputs": [
    {
     "name": "stdout",
     "output_type": "stream",
     "text": [
      "5\n",
      "-1\n"
     ]
    }
   ],
   "source": [
    "print(my_max(1,2,3,4,5))\n",
    "print(my_max(-1,-2,-3,-4))"
   ]
  },
  {
   "cell_type": "markdown",
   "id": "90da44a1-ec07-49cd-9d0c-ad51883d2fbd",
   "metadata": {},
   "source": [
    "### 정의되지 않은 키워드 인자 처리하기\n",
    "\n",
    "```python\n",
    "def func(**kwargs):\n",
    "    pass\n",
    "```"
   ]
  },
  {
   "cell_type": "code",
   "execution_count": 38,
   "id": "bb5f2d7c-3465-4ecf-b401-e00f9cac70c4",
   "metadata": {},
   "outputs": [
    {
     "name": "stdout",
     "output_type": "stream",
     "text": [
      "{'name': 'hong', 'age': 20}\n"
     ]
    }
   ],
   "source": [
    "info = {\n",
    "    'name': 'hong',\n",
    "    'age': 20,\n",
    "}\n",
    "print(info)"
   ]
  },
  {
   "cell_type": "code",
   "execution_count": 39,
   "id": "cbc2de0f-3d8a-4646-8fd0-e786f7ab6eed",
   "metadata": {},
   "outputs": [
    {
     "name": "stdout",
     "output_type": "stream",
     "text": [
      "{'name': 'hong', 'age': '20'}\n"
     ]
    }
   ],
   "source": [
    "info = dict(name='hong', age='20')\n",
    "print(info)"
   ]
  },
  {
   "cell_type": "code",
   "execution_count": 41,
   "id": "3f005a0a-7cc4-4270-afad-f5a4b7dbdc74",
   "metadata": {},
   "outputs": [
    {
     "name": "stdout",
     "output_type": "stream",
     "text": [
      "korean는 안녕입니다.\n",
      "english는 hello입니다.\n"
     ]
    }
   ],
   "source": [
    "def fake_dict(**kwargs):\n",
    "    for key, value in kwargs.items():\n",
    "        print(f'{key}는 {value}입니다.')\n",
    "\n",
    "fake_dict(korean='안녕', english='hello')"
   ]
  },
  {
   "cell_type": "markdown",
   "id": "c8c5748c-42da-4e76-9957-fb7f7751ba4c",
   "metadata": {},
   "source": [
    "### dictionary를 인자로 넣기 (unpacking)"
   ]
  },
  {
   "cell_type": "code",
   "execution_count": 43,
   "id": "2bba5e5c-b943-4c98-ae66-7513749af0c1",
   "metadata": {},
   "outputs": [
    {
     "name": "stdout",
     "output_type": "stream",
     "text": [
      "비밀번호 불일치\n"
     ]
    }
   ],
   "source": [
    "def sign_up(username, password, password_confirmation):\n",
    "    if password == password_confirmation:\n",
    "        print(f'{username}님 회원가입 완료')\n",
    "    else:\n",
    "        print(f'비밀번호 불일치')\n",
    "\n",
    "sign_up('parkyeju', 'qwer1234', 'qwer12345')"
   ]
  },
  {
   "cell_type": "code",
   "execution_count": 44,
   "id": "9bfde289-b413-43a8-b824-265e8dfa04e1",
   "metadata": {},
   "outputs": [
    {
     "name": "stdout",
     "output_type": "stream",
     "text": [
      "asdf123님 회원가입 완료\n"
     ]
    }
   ],
   "source": [
    "my_account = {\n",
    "    'username': 'asdf123',\n",
    "    'password': '1w1w1w',\n",
    "    'password_confirmation': '1w1w1w',\n",
    "}\n",
    "\n",
    "sign_up(**my_account)"
   ]
  },
  {
   "cell_type": "markdown",
   "id": "7d370018-500a-476e-9a98-b174bb9169d7",
   "metadata": {},
   "source": [
    "### lambda 표현식\n",
    "\n",
    "```python\n",
    "lambda parameter: expression\n",
    "```\n",
    "\n",
    "- 작고 이름 없는 함수\n",
    "- 축약본, 빠르지만 권장하지 않음"
   ]
  },
  {
   "cell_type": "code",
   "execution_count": 45,
   "id": "fa70462f-ebbd-488b-a35c-545cfd19eac5",
   "metadata": {},
   "outputs": [
    {
     "data": {
      "text/plain": [
       "3"
      ]
     },
     "execution_count": 45,
     "metadata": {},
     "output_type": "execute_result"
    }
   ],
   "source": [
    "(lambda a, b: a + b)(1,2)\n"
   ]
  },
  {
   "cell_type": "code",
   "execution_count": 46,
   "id": "3cd0b64e-7b54-4f6d-af7e-44bfe27aa9f7",
   "metadata": {},
   "outputs": [
    {
     "data": {
      "text/plain": [
       "3"
      ]
     },
     "execution_count": 46,
     "metadata": {},
     "output_type": "execute_result"
    }
   ],
   "source": [
    "def my_sum(a,b):\n",
    "    return a + b\n",
    "\n",
    "my_sum(1,2)"
   ]
  },
  {
   "cell_type": "markdown",
   "id": "e9e8f558-e7f2-48e7-a2b9-1c4f11767a24",
   "metadata": {},
   "source": [
    "### 타입 힌트\n",
    "\n",
    "- 함수 사용하는 개발자를 위한 주석"
   ]
  },
  {
   "cell_type": "code",
   "execution_count": 52,
   "id": "2582fbcb-5939-48da-b890-3d7e2f337de0",
   "metadata": {},
   "outputs": [
    {
     "ename": "TypeError",
     "evalue": "can only concatenate str (not \"int\") to str",
     "output_type": "error",
     "traceback": [
      "\u001b[0;31m---------------------------------------------------------------------------\u001b[0m",
      "\u001b[0;31mTypeError\u001b[0m                                 Traceback (most recent call last)",
      "Cell \u001b[0;32mIn[52], line 10\u001b[0m\n\u001b[1;32m      7\u001b[0m     \u001b[38;5;28;01mreturn\u001b[39;00m num1 \u001b[38;5;241m+\u001b[39m num2\n\u001b[1;32m      9\u001b[0m my_sum(\u001b[38;5;241m1\u001b[39m,\u001b[38;5;241m2\u001b[39m)\n\u001b[0;32m---> 10\u001b[0m \u001b[43mmy_sum\u001b[49m\u001b[43m(\u001b[49m\u001b[38;5;124;43m'\u001b[39;49m\u001b[38;5;124;43m1\u001b[39;49m\u001b[38;5;124;43m'\u001b[39;49m\u001b[43m,\u001b[49m\u001b[43m \u001b[49m\u001b[38;5;241;43m2\u001b[39;49m\u001b[43m)\u001b[49m\n",
      "Cell \u001b[0;32mIn[52], line 7\u001b[0m, in \u001b[0;36mmy_sum\u001b[0;34m(num1, num2)\u001b[0m\n\u001b[1;32m      1\u001b[0m \u001b[38;5;28;01mdef\u001b[39;00m \u001b[38;5;21mmy_sum\u001b[39m(num1: \u001b[38;5;28mint\u001b[39m, num2: \u001b[38;5;28mint\u001b[39m) \u001b[38;5;241m-\u001b[39m\u001b[38;5;241m>\u001b[39m \u001b[38;5;28mint\u001b[39m:\n\u001b[1;32m      2\u001b[0m \u001b[38;5;250m    \u001b[39m\u001b[38;5;124;03m'''\u001b[39;00m\n\u001b[1;32m      3\u001b[0m \u001b[38;5;124;03m    두 수의 합을 구하는 함수입니다.\u001b[39;00m\n\u001b[1;32m      4\u001b[0m \u001b[38;5;124;03m    매개변수 num1, num2 를 받아서 num1 + num2를 리턴합니다.\u001b[39;00m\n\u001b[1;32m      5\u001b[0m \u001b[38;5;124;03m    '''\u001b[39;00m\n\u001b[0;32m----> 7\u001b[0m     \u001b[38;5;28;01mreturn\u001b[39;00m \u001b[43mnum1\u001b[49m\u001b[43m \u001b[49m\u001b[38;5;241;43m+\u001b[39;49m\u001b[43m \u001b[49m\u001b[43mnum2\u001b[49m\n",
      "\u001b[0;31mTypeError\u001b[0m: can only concatenate str (not \"int\") to str"
     ]
    }
   ],
   "source": [
    "def my_sum(num1: int, num2: int) -> int:\n",
    "    '''\n",
    "    두 수의 합을 구하는 함수입니다.\n",
    "    매개변수 num1, num2 를 받아서 num1 + num2를 리턴합니다.\n",
    "    '''\n",
    "    \n",
    "    return num1 + num2\n",
    "\n",
    "my_sum(1,2)\n",
    "my_sum('1', 2)"
   ]
  },
  {
   "cell_type": "markdown",
   "id": "8460f6a0-e0bc-4f6a-969f-ede72a2eee49",
   "metadata": {},
   "source": [
    "### 이름공간 (scope)\n",
    "\n",
    "파이썬에서 사용되는 이름들은 이름공간(namespace)에 저장되어 있습니다.\n",
    "\n",
    "- Local scope : 정의된 함수 내부\n",
    "- Enclosed scope : 상위 함수\n",
    "- Global scope : 함수 밖의 변수 혹은 import된 모듈\n",
    "- Built-in scope : python이 기본적으로 가지고 있는 함수 혹은 변수"
   ]
  },
  {
   "cell_type": "code",
   "execution_count": 53,
   "id": "c29e2be6-6981-4e8f-b9bf-e9d2ef8a5dc1",
   "metadata": {},
   "outputs": [],
   "source": [
    "str = '123'"
   ]
  },
  {
   "cell_type": "code",
   "execution_count": 54,
   "id": "6460fdaa-3811-4424-a1d1-837be8e228a0",
   "metadata": {},
   "outputs": [
    {
     "name": "stdout",
     "output_type": "stream",
     "text": [
      "123\n"
     ]
    }
   ],
   "source": [
    "print(str)"
   ]
  },
  {
   "cell_type": "code",
   "execution_count": 55,
   "id": "3ede8154-bc05-43e1-937f-bf1586e06986",
   "metadata": {},
   "outputs": [
    {
     "ename": "TypeError",
     "evalue": "'str' object is not callable",
     "output_type": "error",
     "traceback": [
      "\u001b[0;31m---------------------------------------------------------------------------\u001b[0m",
      "\u001b[0;31mTypeError\u001b[0m                                 Traceback (most recent call last)",
      "Cell \u001b[0;32mIn[55], line 1\u001b[0m\n\u001b[0;32m----> 1\u001b[0m \u001b[38;5;28;43mstr\u001b[39;49m\u001b[43m(\u001b[49m\u001b[38;5;241;43m789\u001b[39;49m\u001b[43m)\u001b[49m\n",
      "\u001b[0;31mTypeError\u001b[0m: 'str' object is not callable"
     ]
    }
   ],
   "source": [
    "str(789)"
   ]
  },
  {
   "cell_type": "code",
   "execution_count": 56,
   "id": "36c7476c-065e-49de-9413-1e883d16da69",
   "metadata": {},
   "outputs": [],
   "source": [
    "del str"
   ]
  },
  {
   "cell_type": "code",
   "execution_count": 57,
   "id": "832ad987-acfa-42dd-88d6-b42eda40e331",
   "metadata": {},
   "outputs": [
    {
     "name": "stdout",
     "output_type": "stream",
     "text": [
      "5\n"
     ]
    }
   ],
   "source": [
    "a = 1\n",
    "def localscope(a):\n",
    "    print(a)\n",
    "\n",
    "localscope(5)"
   ]
  },
  {
   "cell_type": "code",
   "execution_count": 59,
   "id": "a12f21b5-cd8c-4be2-b4b3-99bea9484806",
   "metadata": {},
   "outputs": [
    {
     "name": "stdout",
     "output_type": "stream",
     "text": [
      "20\n",
      "20\n"
     ]
    }
   ],
   "source": [
    "num = 10\n",
    "def scope():\n",
    "    global num\n",
    "    num = 20\n",
    "    print(num)\n",
    "\n",
    "scope()\n",
    "print(num)"
   ]
  },
  {
   "cell_type": "code",
   "execution_count": 60,
   "id": "e04a09ac-679d-4ec5-84fa-4cbf2f0447e9",
   "metadata": {},
   "outputs": [
    {
     "name": "stdout",
     "output_type": "stream",
     "text": [
      "20\n",
      "10\n"
     ]
    }
   ],
   "source": [
    "num = 10\n",
    "def scope():\n",
    "    num = 20\n",
    "    print(num)\n",
    "\n",
    "scope()\n",
    "print(num)"
   ]
  },
  {
   "cell_type": "markdown",
   "id": "8eb05eb3-f590-4b19-ae88-17f77941fefc",
   "metadata": {},
   "source": [
    "## 재귀 (recursive)\n",
    "\n",
    "재귀 함수는 함수 내부에서 자기 자신을 호출하는 함수를 의미"
   ]
  },
  {
   "cell_type": "code",
   "execution_count": 69,
   "id": "e80457bb-285b-415f-b1b6-8158dee96a58",
   "metadata": {},
   "outputs": [
    {
     "data": {
      "text/plain": [
       "120"
      ]
     },
     "execution_count": 69,
     "metadata": {},
     "output_type": "execute_result"
    }
   ],
   "source": [
    "# 팩토리얼\n",
    "\n",
    "def fact(n):\n",
    "    result = 1\n",
    "\n",
    "    while n > 1:\n",
    "        result *= n\n",
    "        n -= 1\n",
    "    return result\n",
    "\n",
    "fact(5)"
   ]
  },
  {
   "cell_type": "code",
   "execution_count": 71,
   "id": "eb88919d-3bd0-4bd2-8a97-1a3b0ca2e27d",
   "metadata": {},
   "outputs": [],
   "source": [
    "# 1! = 1\n",
    "# 2! = 1*2 = 1! *2\n",
    "# 3! = 1*2*3 = 2! *3\n",
    "# 4! = 3! *4\n",
    "# ...\n",
    "# n! = (n-1)! * n\n",
    "\n",
    "\n",
    "# fact(5)\n",
    "# fact(fact(4) * 5)\n",
    "# fact(fact(3)*4*5)\n"
   ]
  },
  {
   "cell_type": "code",
   "execution_count": 70,
   "id": "f3bb0ea7-f79a-412b-8d3b-f645c5937e1d",
   "metadata": {},
   "outputs": [
    {
     "data": {
      "text/plain": [
       "120"
      ]
     },
     "execution_count": 70,
     "metadata": {},
     "output_type": "execute_result"
    }
   ],
   "source": [
    "def factorial(n):\n",
    "    if n <= 1:\n",
    "        return 1\n",
    "    else:\n",
    "        return factorial(n-1) * n\n",
    "\n",
    "factorial(5)"
   ]
  },
  {
   "cell_type": "code",
   "execution_count": 72,
   "id": "2064f349-f0ba-4861-855f-87352aefaf83",
   "metadata": {},
   "outputs": [],
   "source": [
    "# def test_error(n):\n",
    "#     return test_error(n)\n",
    "# test_error(1)"
   ]
  },
  {
   "cell_type": "markdown",
   "id": "714c9f84-7f89-410b-a04e-8b79e10a1f2e",
   "metadata": {},
   "source": [
    "### 피보나치 수열\n",
    "```\n",
    "F(0) = F(1) = 1\n",
    "F(n) = F(n-1) + F(n-2)\n",
    "```"
   ]
  },
  {
   "cell_type": "code",
   "execution_count": 100,
   "id": "7cc1e91f-1a6a-4538-ae66-9c9d22a26316",
   "metadata": {},
   "outputs": [
    {
     "data": {
      "text/plain": [
       "10946"
      ]
     },
     "execution_count": 100,
     "metadata": {},
     "output_type": "execute_result"
    }
   ],
   "source": [
    "# 반복문 버전\n",
    "def fib_loop(n):\n",
    "    result = [1, 1]\n",
    "\n",
    "    for i in  range(1, n):\n",
    "        end1 = result[-1]\n",
    "        end2 = result[len(result)-2]\n",
    "        fib_num = end1 + end2\n",
    "\n",
    "        result.append(fib_num)\n",
    "\n",
    "    return result[-1]\n",
    "\n",
    "fib_loop(20)"
   ]
  },
  {
   "cell_type": "code",
   "execution_count": 99,
   "id": "c498ce7e-783f-4bec-b879-bb33987e57ff",
   "metadata": {},
   "outputs": [
    {
     "data": {
      "text/plain": [
       "10946"
      ]
     },
     "execution_count": 99,
     "metadata": {},
     "output_type": "execute_result"
    }
   ],
   "source": [
    "# 재귀 버전 - 비효율적... 느리고 연산 수가 많아짐\n",
    "def fib_rec(n):\n",
    "    if n == 0 or n == 1:\n",
    "        return 1\n",
    "    else:\n",
    "        return fib_rec(n-1) + fib_rec(n-2)\n",
    "\n",
    "fib_rec(20)"
   ]
  },
  {
   "cell_type": "code",
   "execution_count": null,
   "id": "e5fef55e-124b-400f-88b4-a3cf15b80d70",
   "metadata": {},
   "outputs": [],
   "source": []
  }
 ],
 "metadata": {
  "kernelspec": {
   "display_name": "Python 3 (ipykernel)",
   "language": "python",
   "name": "python3"
  },
  "language_info": {
   "codemirror_mode": {
    "name": "ipython",
    "version": 3
   },
   "file_extension": ".py",
   "mimetype": "text/x-python",
   "name": "python",
   "nbconvert_exporter": "python",
   "pygments_lexer": "ipython3",
   "version": "3.11.4"
  }
 },
 "nbformat": 4,
 "nbformat_minor": 5
}
