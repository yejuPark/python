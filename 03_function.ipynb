{
 "cells": [
  {
   "cell_type": "markdown",
   "id": "917ca6da-f6f5-4790-b81a-35b8f0842512",
   "metadata": {},
   "source": [
    "# 함수 (function)"
   ]
  },
  {
   "cell_type": "code",
   "execution_count": 3,
   "id": "66207e11-c668-4251-b3c4-b213c8e6f2ca",
   "metadata": {},
   "outputs": [
    {
     "name": "stdout",
     "output_type": "stream",
     "text": [
      "직사각형의 둘레는 60, 면적은 200 입니다.\n",
      "직사각형의 둘레는 260, 면적은 4000 입니다.\n"
     ]
    }
   ],
   "source": [
    "height = 10\n",
    "width = 20\n",
    "\n",
    "height2 = 50\n",
    "width2 = 80\n",
    "\n",
    "# 직사각형의 둘레는 ***, 면적은 *** 입니다.\n",
    "\n",
    "area = height * width\n",
    "perimeter = (height + width) * 2\n",
    "print(f'직사각형의 둘레는 {perimeter}, 면적은 {area} 입니다.')\n",
    "\n",
    "area = height2 * width2\n",
    "perimeter = (height2 + width2) * 2\n",
    "print(f'직사각형의 둘레는 {perimeter}, 면적은 {area} 입니다.')"
   ]
  },
  {
   "cell_type": "markdown",
   "id": "2d251d8a-fbcf-4fe7-9686-0916b9be1a8b",
   "metadata": {},
   "source": [
    "## 함수의 선언과 호출\n",
    "\n",
    "- 함수의 선언\n",
    "```python\n",
    "def func_name(parameter1, parameter2...):\n",
    "    code1\n",
    "    code2\n",
    "    ...\n",
    "    return value\n",
    "```\n",
    "\n",
    "- 함수의 호출(실행)\n",
    "```\n",
    "func_name(parameter1, parameter2)\n",
    "```"
   ]
  },
  {
   "cell_type": "code",
   "execution_count": 5,
   "id": "883a9c00-28a4-4c72-bfb9-072a1332ec63",
   "metadata": {},
   "outputs": [],
   "source": [
    "def rectangle(height, width):\n",
    "    area = height * width\n",
    "    perimeter = (height + width) * 2\n",
    "    print(f'직사각형의 둘레는 {perimeter}, 면적은 {area} 입니다.')"
   ]
  },
  {
   "cell_type": "code",
   "execution_count": 7,
   "id": "7a0c5d74-2fd4-4c5e-8f03-c7ce0843f2f4",
   "metadata": {},
   "outputs": [
    {
     "name": "stdout",
     "output_type": "stream",
     "text": [
      "직사각형의 둘레는 60, 면적은 200 입니다.\n",
      "직사각형의 둘레는 150, 면적은 1350 입니다.\n"
     ]
    }
   ],
   "source": [
    "rectangle(10,20)\n",
    "rectangle(30,45)"
   ]
  },
  {
   "cell_type": "code",
   "execution_count": 9,
   "id": "0e56ecd4-5361-4329-b0ab-d0a6de3efd97",
   "metadata": {},
   "outputs": [
    {
     "data": {
      "text/plain": [
       "['ArithmeticError',\n",
       " 'AssertionError',\n",
       " 'AttributeError',\n",
       " 'BaseException',\n",
       " 'BaseExceptionGroup',\n",
       " 'BlockingIOError',\n",
       " 'BrokenPipeError',\n",
       " 'BufferError',\n",
       " 'BytesWarning',\n",
       " 'ChildProcessError',\n",
       " 'ConnectionAbortedError',\n",
       " 'ConnectionError',\n",
       " 'ConnectionRefusedError',\n",
       " 'ConnectionResetError',\n",
       " 'DeprecationWarning',\n",
       " 'EOFError',\n",
       " 'Ellipsis',\n",
       " 'EncodingWarning',\n",
       " 'EnvironmentError',\n",
       " 'Exception',\n",
       " 'ExceptionGroup',\n",
       " 'False',\n",
       " 'FileExistsError',\n",
       " 'FileNotFoundError',\n",
       " 'FloatingPointError',\n",
       " 'FutureWarning',\n",
       " 'GeneratorExit',\n",
       " 'IOError',\n",
       " 'ImportError',\n",
       " 'ImportWarning',\n",
       " 'IndentationError',\n",
       " 'IndexError',\n",
       " 'InterruptedError',\n",
       " 'IsADirectoryError',\n",
       " 'KeyError',\n",
       " 'KeyboardInterrupt',\n",
       " 'LookupError',\n",
       " 'MemoryError',\n",
       " 'ModuleNotFoundError',\n",
       " 'NameError',\n",
       " 'None',\n",
       " 'NotADirectoryError',\n",
       " 'NotImplemented',\n",
       " 'NotImplementedError',\n",
       " 'OSError',\n",
       " 'OverflowError',\n",
       " 'PendingDeprecationWarning',\n",
       " 'PermissionError',\n",
       " 'ProcessLookupError',\n",
       " 'RecursionError',\n",
       " 'ReferenceError',\n",
       " 'ResourceWarning',\n",
       " 'RuntimeError',\n",
       " 'RuntimeWarning',\n",
       " 'StopAsyncIteration',\n",
       " 'StopIteration',\n",
       " 'SyntaxError',\n",
       " 'SyntaxWarning',\n",
       " 'SystemError',\n",
       " 'SystemExit',\n",
       " 'TabError',\n",
       " 'TimeoutError',\n",
       " 'True',\n",
       " 'TypeError',\n",
       " 'UnboundLocalError',\n",
       " 'UnicodeDecodeError',\n",
       " 'UnicodeEncodeError',\n",
       " 'UnicodeError',\n",
       " 'UnicodeTranslateError',\n",
       " 'UnicodeWarning',\n",
       " 'UserWarning',\n",
       " 'ValueError',\n",
       " 'Warning',\n",
       " 'ZeroDivisionError',\n",
       " '__IPYTHON__',\n",
       " '__build_class__',\n",
       " '__debug__',\n",
       " '__doc__',\n",
       " '__import__',\n",
       " '__loader__',\n",
       " '__name__',\n",
       " '__package__',\n",
       " '__spec__',\n",
       " 'abs',\n",
       " 'aiter',\n",
       " 'all',\n",
       " 'anext',\n",
       " 'any',\n",
       " 'ascii',\n",
       " 'bin',\n",
       " 'bool',\n",
       " 'breakpoint',\n",
       " 'bytearray',\n",
       " 'bytes',\n",
       " 'callable',\n",
       " 'chr',\n",
       " 'classmethod',\n",
       " 'compile',\n",
       " 'complex',\n",
       " 'copyright',\n",
       " 'credits',\n",
       " 'delattr',\n",
       " 'dict',\n",
       " 'dir',\n",
       " 'display',\n",
       " 'divmod',\n",
       " 'enumerate',\n",
       " 'eval',\n",
       " 'exec',\n",
       " 'execfile',\n",
       " 'filter',\n",
       " 'float',\n",
       " 'format',\n",
       " 'frozenset',\n",
       " 'get_ipython',\n",
       " 'getattr',\n",
       " 'globals',\n",
       " 'hasattr',\n",
       " 'hash',\n",
       " 'help',\n",
       " 'hex',\n",
       " 'id',\n",
       " 'input',\n",
       " 'int',\n",
       " 'isinstance',\n",
       " 'issubclass',\n",
       " 'iter',\n",
       " 'len',\n",
       " 'license',\n",
       " 'list',\n",
       " 'locals',\n",
       " 'map',\n",
       " 'max',\n",
       " 'memoryview',\n",
       " 'min',\n",
       " 'next',\n",
       " 'object',\n",
       " 'oct',\n",
       " 'open',\n",
       " 'ord',\n",
       " 'pow',\n",
       " 'print',\n",
       " 'property',\n",
       " 'range',\n",
       " 'repr',\n",
       " 'reversed',\n",
       " 'round',\n",
       " 'runfile',\n",
       " 'set',\n",
       " 'setattr',\n",
       " 'slice',\n",
       " 'sorted',\n",
       " 'staticmethod',\n",
       " 'str',\n",
       " 'sum',\n",
       " 'super',\n",
       " 'tuple',\n",
       " 'type',\n",
       " 'vars',\n",
       " 'zip']"
      ]
     },
     "execution_count": 9,
     "metadata": {},
     "output_type": "execute_result"
    }
   ],
   "source": [
    "dir(__builtins__)"
   ]
  },
  {
   "cell_type": "code",
   "execution_count": 10,
   "id": "7a4162f3-f629-4159-8b19-4dae827f209d",
   "metadata": {},
   "outputs": [
    {
     "data": {
      "text/plain": [
       "5"
      ]
     },
     "execution_count": 10,
     "metadata": {},
     "output_type": "execute_result"
    }
   ],
   "source": [
    "max(1,5)"
   ]
  },
  {
   "cell_type": "code",
   "execution_count": 22,
   "id": "89add638-8332-4334-abf9-1631e35bab89",
   "metadata": {},
   "outputs": [],
   "source": [
    "# 큰 수를 출력\n",
    "\n",
    "def my_max(a,b):\n",
    "    if a > b:\n",
    "        print(f'{a}가 더 큽니다.')\n",
    "    elif a < b:\n",
    "        print(f'{b}가 더 큽니다.')\n",
    "    else:\n",
    "        print('두 수가 같습니다.')"
   ]
  },
  {
   "cell_type": "code",
   "execution_count": 32,
   "id": "0293392d-e779-4302-a39c-9229c5ec0d35",
   "metadata": {},
   "outputs": [
    {
     "name": "stdout",
     "output_type": "stream",
     "text": [
      "4727344가 더 큽니다.\n",
      "None\n",
      "2가 더 큽니다.\n"
     ]
    }
   ],
   "source": [
    "result = my_max(10,4727344)\n",
    "print(result)\n",
    "\n",
    "my_max(1,2)"
   ]
  },
  {
   "cell_type": "markdown",
   "id": "95ad9455-5b58-4147-8923-87d4e1cb54de",
   "metadata": {},
   "source": [
    "## 함수의 return\n",
    "\n",
    "- 함수가 return 을 만나면 해당 값을 반환하고 함수를 종료\n",
    "- 만약 return 이 없다면 None 을 자동으로 반환\n",
    "- return 은 오직 하나의 객체만 반환합니다."
   ]
  },
  {
   "cell_type": "code",
   "execution_count": 37,
   "id": "2de36d22-bfd2-408b-8c44-00f9cdbc6e27",
   "metadata": {},
   "outputs": [],
   "source": [
    "# 큰 수를 반환\n",
    "\n",
    "def my_max2(a,b):\n",
    "\n",
    "    # return 'hello'\n",
    "    \n",
    "    if a > b:\n",
    "        return a\n",
    "    elif a < b:\n",
    "        return b\n",
    "    else:\n",
    "        return 0"
   ]
  },
  {
   "cell_type": "code",
   "execution_count": 38,
   "id": "35712235-b2f7-4cfa-950d-2f20021c49b5",
   "metadata": {},
   "outputs": [
    {
     "name": "stdout",
     "output_type": "stream",
     "text": [
      "2가 더 큽니다.\n"
     ]
    }
   ],
   "source": [
    "result = my_max2(1,2)\n",
    "print(f'{result}가 더 큽니다.')"
   ]
  },
  {
   "cell_type": "code",
   "execution_count": 42,
   "id": "34eb619a-7464-46ea-9682-79d1ec341a88",
   "metadata": {},
   "outputs": [],
   "source": [
    "def my_list_max(list_a, list_b):\n",
    "    if sum(list_a) > sum(list_b):\n",
    "        return list_a, 123\n",
    "    else:\n",
    "        return list_b, 111\n",
    "        "
   ]
  },
  {
   "cell_type": "code",
   "execution_count": 43,
   "id": "0542b98e-ed2e-4f01-bea5-c34fd92e3684",
   "metadata": {},
   "outputs": [
    {
     "data": {
      "text/plain": [
       "([11, 12], 111)"
      ]
     },
     "execution_count": 43,
     "metadata": {},
     "output_type": "execute_result"
    }
   ],
   "source": [
    "my_list_max([10,11], [11,12])"
   ]
  },
  {
   "cell_type": "code",
   "execution_count": null,
   "id": "70e654fa-6770-4700-b074-95715bd685d1",
   "metadata": {},
   "outputs": [],
   "source": []
  }
 ],
 "metadata": {
  "kernelspec": {
   "display_name": "Python 3 (ipykernel)",
   "language": "python",
   "name": "python3"
  },
  "language_info": {
   "codemirror_mode": {
    "name": "ipython",
    "version": 3
   },
   "file_extension": ".py",
   "mimetype": "text/x-python",
   "name": "python",
   "nbconvert_exporter": "python",
   "pygments_lexer": "ipython3",
   "version": "3.11.4"
  }
 },
 "nbformat": 4,
 "nbformat_minor": 5
}
