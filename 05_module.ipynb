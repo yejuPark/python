{
 "cells": [
  {
   "cell_type": "markdown",
   "id": "1b08e6fc-0fe6-4e0c-b216-c8f372adce90",
   "metadata": {},
   "source": [
    "# 1. 모듈"
   ]
  },
  {
   "cell_type": "code",
   "execution_count": 1,
   "id": "5ef0e9ec-8999-4dc3-a6a8-055add03f469",
   "metadata": {},
   "outputs": [],
   "source": [
    "import fibo"
   ]
  },
  {
   "cell_type": "code",
   "execution_count": 2,
   "id": "27369785-b3b9-4292-b642-1afc23caa654",
   "metadata": {},
   "outputs": [
    {
     "name": "stdout",
     "output_type": "stream",
     "text": [
      "<module 'fibo' from '/Users/bag-yeju/Desktop/camp29/python/fibo.py'>\n"
     ]
    }
   ],
   "source": [
    "print(fibo)"
   ]
  },
  {
   "cell_type": "code",
   "execution_count": 3,
   "id": "91ac43ea-fc1c-4f46-a5a9-38e05895412f",
   "metadata": {},
   "outputs": [
    {
     "data": {
      "text/plain": [
       "5"
      ]
     },
     "execution_count": 3,
     "metadata": {},
     "output_type": "execute_result"
    }
   ],
   "source": [
    "fibo.fib_loop(4)"
   ]
  },
  {
   "cell_type": "code",
   "execution_count": 4,
   "id": "a23ce5c5-d41c-4d9c-be3f-f5ea92d4e6cd",
   "metadata": {},
   "outputs": [
    {
     "data": {
      "text/plain": [
       "3"
      ]
     },
     "execution_count": 4,
     "metadata": {},
     "output_type": "execute_result"
    }
   ],
   "source": [
    "fibo.fib_rec(3)"
   ]
  },
  {
   "cell_type": "markdown",
   "id": "40e9c5a2-3348-4add-ba15-59f5b9105c62",
   "metadata": {},
   "source": [
    "# 2. 패키지\n",
    "\n",
    "```python\n",
    "myPackage/\n",
    "    __init__.py\n",
    "    math/\n",
    "        __init__.py\n",
    "        fibo.py\n",
    "        formula.py\n",
    "```\n",
    "\n",
    "패키지 안에 `__init__.py` 파일이 있어야 패키지로 인식"
   ]
  },
  {
   "cell_type": "code",
   "execution_count": 5,
   "id": "421633fe-4612-4b17-903c-e07c978c1d15",
   "metadata": {},
   "outputs": [],
   "source": [
    "# 패키지 폴더를 전체 추가\n",
    "\n",
    "import myPackage"
   ]
  },
  {
   "cell_type": "code",
   "execution_count": 6,
   "id": "3fa447d8-18c8-4316-9c95-d5123ac871f7",
   "metadata": {},
   "outputs": [
    {
     "name": "stdout",
     "output_type": "stream",
     "text": [
      "<module 'myPackage' from '/Users/bag-yeju/Desktop/camp29/python/myPackage/__init__.py'>\n"
     ]
    }
   ],
   "source": [
    "print(myPackage)"
   ]
  },
  {
   "cell_type": "code",
   "execution_count": 7,
   "id": "5e773f9a-de67-48b0-ac28-05b3b28be039",
   "metadata": {},
   "outputs": [],
   "source": [
    "# 패키지에서 필요한 모듈을 꺼내오는 코드\n",
    "\n",
    "from myPackage.math import formula"
   ]
  },
  {
   "cell_type": "code",
   "execution_count": 8,
   "id": "94cc04ad-5c31-4712-ac5a-ee6017967afa",
   "metadata": {},
   "outputs": [
    {
     "data": {
      "text/plain": [
       "3.14"
      ]
     },
     "execution_count": 8,
     "metadata": {},
     "output_type": "execute_result"
    }
   ],
   "source": [
    "formula.pi"
   ]
  },
  {
   "cell_type": "code",
   "execution_count": 9,
   "id": "5f219c4b-4e6f-41e6-be0b-96c8ea4d5da0",
   "metadata": {},
   "outputs": [
    {
     "data": {
      "text/plain": [
       "2"
      ]
     },
     "execution_count": 9,
     "metadata": {},
     "output_type": "execute_result"
    }
   ],
   "source": [
    "formula.my_max(1,2)"
   ]
  },
  {
   "cell_type": "code",
   "execution_count": 10,
   "id": "9c8f4055-df20-4a56-8ff1-1c7f64cfdfe5",
   "metadata": {},
   "outputs": [],
   "source": [
    "# 경로에 있는 모듈이 가지고 있는 모든 변수, 함수를 추가\n",
    "\n",
    "from myPackage.math.fibo import *"
   ]
  },
  {
   "cell_type": "code",
   "execution_count": 11,
   "id": "fd7c6c44-26d4-430f-806e-9443f2408c84",
   "metadata": {},
   "outputs": [
    {
     "data": {
      "text/plain": [
       "89"
      ]
     },
     "execution_count": 11,
     "metadata": {},
     "output_type": "execute_result"
    }
   ],
   "source": [
    "fib_loop(10)"
   ]
  },
  {
   "cell_type": "code",
   "execution_count": 14,
   "id": "b6f7dfaf-919a-49ea-88e0-f5faf7bd90db",
   "metadata": {},
   "outputs": [
    {
     "name": "stdout",
     "output_type": "stream",
     "text": [
      "1234\n",
      "<module 'myPackage.math.formula' from '/Users/bag-yeju/Desktop/camp29/python/myPackage/math/formula.py'>\n"
     ]
    }
   ],
   "source": [
    "formula = 1234\n",
    "from myPackage.math import formula as f\n",
    "\n",
    "print(formula)\n",
    "print(f)"
   ]
  },
  {
   "cell_type": "markdown",
   "id": "8c5c351f-53e6-4c76-92a2-f27abb9ae4c2",
   "metadata": {},
   "source": [
    "# 3. Python 내장 패키지"
   ]
  },
  {
   "cell_type": "markdown",
   "id": "8de2eb4e-a968-4ee1-bdd7-f16e2ae6a113",
   "metadata": {},
   "source": [
    "## 3.1 math"
   ]
  },
  {
   "cell_type": "code",
   "execution_count": 15,
   "id": "672907eb-3e34-4b19-b939-13bf8c114037",
   "metadata": {},
   "outputs": [],
   "source": [
    "import math"
   ]
  },
  {
   "cell_type": "code",
   "execution_count": 16,
   "id": "6decf8fd-d476-45e3-a9e1-cb3e3b498798",
   "metadata": {},
   "outputs": [
    {
     "data": {
      "text/plain": [
       "3.141592653589793"
      ]
     },
     "execution_count": 16,
     "metadata": {},
     "output_type": "execute_result"
    }
   ],
   "source": [
    "math.pi"
   ]
  },
  {
   "cell_type": "code",
   "execution_count": 17,
   "id": "554490b5-95f5-42f8-bb41-79b50798697d",
   "metadata": {},
   "outputs": [
    {
     "data": {
      "text/plain": [
       "2.718281828459045"
      ]
     },
     "execution_count": 17,
     "metadata": {},
     "output_type": "execute_result"
    }
   ],
   "source": [
    "math.e"
   ]
  },
  {
   "cell_type": "code",
   "execution_count": 18,
   "id": "95d89306-585d-4b24-b010-fe552c1cbfdd",
   "metadata": {},
   "outputs": [],
   "source": [
    "pi = 3.141592"
   ]
  },
  {
   "cell_type": "code",
   "execution_count": 21,
   "id": "27664ea4-a320-44a9-8dc2-5fc9ca0a6a8a",
   "metadata": {},
   "outputs": [
    {
     "data": {
      "text/plain": [
       "4"
      ]
     },
     "execution_count": 21,
     "metadata": {},
     "output_type": "execute_result"
    }
   ],
   "source": [
    "math.ceil(pi)  # 소수점 올림"
   ]
  },
  {
   "cell_type": "code",
   "execution_count": 22,
   "id": "d5aa4a33-8f08-434e-9600-dcac0809a8bd",
   "metadata": {},
   "outputs": [
    {
     "data": {
      "text/plain": [
       "3"
      ]
     },
     "execution_count": 22,
     "metadata": {},
     "output_type": "execute_result"
    }
   ],
   "source": [
    "math.floor(pi)   # 소수점 내림"
   ]
  },
  {
   "cell_type": "code",
   "execution_count": 23,
   "id": "2cbc6ee4-af38-4ce5-99b7-a56b21cd6dbd",
   "metadata": {},
   "outputs": [
    {
     "data": {
      "text/plain": [
       "3.0"
      ]
     },
     "execution_count": 23,
     "metadata": {},
     "output_type": "execute_result"
    }
   ],
   "source": [
    "math.sqrt(9)     # 루트"
   ]
  },
  {
   "cell_type": "markdown",
   "id": "e967a342-5741-4a5f-8545-4874367c8ef1",
   "metadata": {},
   "source": [
    "## 3.2 random"
   ]
  },
  {
   "cell_type": "code",
   "execution_count": 24,
   "id": "a7ffb7e1-52ea-4381-99e0-c48b2a4ce017",
   "metadata": {},
   "outputs": [],
   "source": [
    "import random"
   ]
  },
  {
   "cell_type": "code",
   "execution_count": 29,
   "id": "4904c347-7639-4e40-be2d-b00ae628e57f",
   "metadata": {},
   "outputs": [
    {
     "data": {
      "text/plain": [
       "0.2931578218703951"
      ]
     },
     "execution_count": 29,
     "metadata": {},
     "output_type": "execute_result"
    }
   ],
   "source": [
    "random.random()"
   ]
  },
  {
   "cell_type": "code",
   "execution_count": 34,
   "id": "2f470923-c449-4756-82a3-3485d35372d3",
   "metadata": {},
   "outputs": [
    {
     "data": {
      "text/plain": [
       "4"
      ]
     },
     "execution_count": 34,
     "metadata": {},
     "output_type": "execute_result"
    }
   ],
   "source": [
    "random.randint(1,10)"
   ]
  },
  {
   "cell_type": "code",
   "execution_count": 50,
   "id": "2406a0f3-a65d-479d-a9d3-24934283b089",
   "metadata": {},
   "outputs": [
    {
     "data": {
      "text/plain": [
       "0.13436424411240122"
      ]
     },
     "execution_count": 50,
     "metadata": {},
     "output_type": "execute_result"
    }
   ],
   "source": [
    "# seed\n",
    "\n",
    "random.seed(1)\n",
    "random.random()"
   ]
  },
  {
   "cell_type": "code",
   "execution_count": 56,
   "id": "7e50c095-53ac-483d-85d7-aad0b4896f66",
   "metadata": {},
   "outputs": [
    {
     "name": "stdout",
     "output_type": "stream",
     "text": [
      "[3, 4, 2, 1, 5]\n"
     ]
    }
   ],
   "source": [
    "# shuffle\n",
    "\n",
    "a = [1,2,3,4,5]\n",
    "random.shuffle(a)\n",
    "print(a)"
   ]
  },
  {
   "cell_type": "code",
   "execution_count": 60,
   "id": "bfe8252e-337f-4d53-992d-61ab0a5afbe1",
   "metadata": {},
   "outputs": [
    {
     "name": "stdout",
     "output_type": "stream",
     "text": [
      "1\n"
     ]
    }
   ],
   "source": [
    "# choice\n",
    "\n",
    "a = [1,2,3,4,5]\n",
    "print(random.choice(a))"
   ]
  },
  {
   "cell_type": "code",
   "execution_count": 61,
   "id": "12f9f007-2993-49af-9a40-2f58c57b9783",
   "metadata": {},
   "outputs": [
    {
     "name": "stdout",
     "output_type": "stream",
     "text": [
      "바위\n"
     ]
    }
   ],
   "source": [
    "# choice\n",
    "a = ['가위','바위','보']\n",
    "print(random.choice(a))"
   ]
  },
  {
   "cell_type": "code",
   "execution_count": 62,
   "id": "f94d3976-3ded-42bb-98b0-6b09c408eec8",
   "metadata": {},
   "outputs": [
    {
     "data": {
      "text/plain": [
       "[44, 14, 28, 2, 34, 15]"
      ]
     },
     "execution_count": 62,
     "metadata": {},
     "output_type": "execute_result"
    }
   ],
   "source": [
    "# sample\n",
    "\n",
    "a = range(1, 46)\n",
    "random.sample(a, 6)"
   ]
  },
  {
   "cell_type": "markdown",
   "id": "53ccd6a4-9a4a-4e5f-aa9c-757aa3d96003",
   "metadata": {},
   "source": [
    "## 3.3 datetime"
   ]
  },
  {
   "cell_type": "code",
   "execution_count": 63,
   "id": "4cd425ae-3fb5-4f17-ac21-4947947a5318",
   "metadata": {},
   "outputs": [],
   "source": [
    "from datetime import datetime"
   ]
  },
  {
   "cell_type": "code",
   "execution_count": 64,
   "id": "d127bb5e-cd42-4d97-b4f3-6e676cd51f63",
   "metadata": {},
   "outputs": [
    {
     "name": "stdout",
     "output_type": "stream",
     "text": [
      "2023-07-31 16:20:55.087217\n"
     ]
    }
   ],
   "source": [
    "now = datetime.now()\n",
    "print(now)"
   ]
  },
  {
   "cell_type": "code",
   "execution_count": 65,
   "id": "73adf256-559e-4cb5-b6b9-98f38fd8b3d0",
   "metadata": {},
   "outputs": [
    {
     "name": "stdout",
     "output_type": "stream",
     "text": [
      "2023-07-31 16:21:22.714879\n"
     ]
    }
   ],
   "source": [
    "today = datetime.today()\n",
    "print(today)"
   ]
  },
  {
   "cell_type": "code",
   "execution_count": 66,
   "id": "7ed973f2-c4ba-4279-ab48-8ce899a84f95",
   "metadata": {},
   "outputs": [
    {
     "name": "stdout",
     "output_type": "stream",
     "text": [
      "2023-07-31 07:22:58.670428\n"
     ]
    }
   ],
   "source": [
    "utc = datetime.utcnow()\n",
    "print(utc)"
   ]
  },
  {
   "cell_type": "code",
   "execution_count": 69,
   "id": "7ab0b163-a1bf-4bcd-9dfd-cb0d6507e727",
   "metadata": {},
   "outputs": [
    {
     "data": {
      "text/plain": [
       "'2023년 07월 31일'"
      ]
     },
     "execution_count": 69,
     "metadata": {},
     "output_type": "execute_result"
    }
   ],
   "source": [
    "now.strftime('%Y년 %m월 %d일')"
   ]
  },
  {
   "cell_type": "code",
   "execution_count": 70,
   "id": "86a11951-b6fa-4f18-872a-4961fa5c7e16",
   "metadata": {},
   "outputs": [
    {
     "data": {
      "text/plain": [
       "2023"
      ]
     },
     "execution_count": 70,
     "metadata": {},
     "output_type": "execute_result"
    }
   ],
   "source": [
    "now.year"
   ]
  },
  {
   "cell_type": "code",
   "execution_count": 71,
   "id": "6fe001cd-04d7-41b7-a861-6b07ba19d73b",
   "metadata": {},
   "outputs": [
    {
     "data": {
      "text/plain": [
       "31"
      ]
     },
     "execution_count": 71,
     "metadata": {},
     "output_type": "execute_result"
    }
   ],
   "source": [
    "now.day"
   ]
  },
  {
   "cell_type": "code",
   "execution_count": 72,
   "id": "fb888700-3c46-44e4-9a4c-2c9efbb968fc",
   "metadata": {},
   "outputs": [
    {
     "data": {
      "text/plain": [
       "0"
      ]
     },
     "execution_count": 72,
     "metadata": {},
     "output_type": "execute_result"
    }
   ],
   "source": [
    "# weekday => 0~6, 월~일\n",
    "\n",
    "now.weekday()"
   ]
  },
  {
   "cell_type": "code",
   "execution_count": 74,
   "id": "7e5fa3c7-17b1-48d4-ab11-01700897afa3",
   "metadata": {},
   "outputs": [
    {
     "name": "stdout",
     "output_type": "stream",
     "text": [
      "2023-10-20 00:00:00\n"
     ]
    }
   ],
   "source": [
    "birth = datetime(2023, 10, 20)\n",
    "print(birth)"
   ]
  },
  {
   "cell_type": "code",
   "execution_count": 75,
   "id": "f54c0415-a86f-40b9-aa34-bd30ef33af64",
   "metadata": {},
   "outputs": [],
   "source": [
    "from datetime import timedelta"
   ]
  },
  {
   "cell_type": "code",
   "execution_count": 76,
   "id": "f3a27521-1fbb-4fb7-b4c2-6d8d8b16a595",
   "metadata": {},
   "outputs": [
    {
     "name": "stdout",
     "output_type": "stream",
     "text": [
      "3 days, 0:00:00\n"
     ]
    }
   ],
   "source": [
    "future = timedelta(days=3)\n",
    "print(future)"
   ]
  },
  {
   "cell_type": "code",
   "execution_count": 77,
   "id": "aaa5cc8a-4e83-4a64-8892-f270fca95ba4",
   "metadata": {},
   "outputs": [
    {
     "data": {
      "text/plain": [
       "datetime.datetime(2023, 10, 23, 0, 0)"
      ]
     },
     "execution_count": 77,
     "metadata": {},
     "output_type": "execute_result"
    }
   ],
   "source": [
    "birth + future"
   ]
  },
  {
   "cell_type": "code",
   "execution_count": 78,
   "id": "1b95293f-2c02-4792-ba1c-4c26b78c9f45",
   "metadata": {},
   "outputs": [],
   "source": [
    "christmas = datetime(2023, 12, 25)"
   ]
  },
  {
   "cell_type": "code",
   "execution_count": 79,
   "id": "418c7f77-3390-4c0c-9032-8c5e7e7a28c6",
   "metadata": {},
   "outputs": [
    {
     "data": {
      "text/plain": [
       "datetime.timedelta(days=146, seconds=27544, microseconds=912783)"
      ]
     },
     "execution_count": 79,
     "metadata": {},
     "output_type": "execute_result"
    }
   ],
   "source": [
    "christmas - now"
   ]
  },
  {
   "cell_type": "code",
   "execution_count": null,
   "id": "783df456-1145-42e7-9a8f-e0625da8558f",
   "metadata": {},
   "outputs": [],
   "source": []
  }
 ],
 "metadata": {
  "kernelspec": {
   "display_name": "Python 3 (ipykernel)",
   "language": "python",
   "name": "python3"
  },
  "language_info": {
   "codemirror_mode": {
    "name": "ipython",
    "version": 3
   },
   "file_extension": ".py",
   "mimetype": "text/x-python",
   "name": "python",
   "nbconvert_exporter": "python",
   "pygments_lexer": "ipython3",
   "version": "3.11.4"
  }
 },
 "nbformat": 4,
 "nbformat_minor": 5
}
