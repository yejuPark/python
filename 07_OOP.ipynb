{
 "cells": [
  {
   "cell_type": "markdown",
   "id": "a62299dd-3b5b-459b-ad8d-150ab69da578",
   "metadata": {},
   "source": [
    "# 객체지향 프로그래밍(OOP)\n",
    "\n",
    "- 클래스(class) : 같은 종류의 집단에 속하는 속성(attribute)과 행위(method)를 **정의**한 것\n",
    "- 인스턴스(instance) : 클래스를 실제로 메모리상에 할당한 것\n",
    "- 속성(attribute) : 클래스/인스턴스가 가지고 있는 **데이터**/값\n",
    "- 행위(method) : 클래스/인스턴스가 가지고 있는 **함수**/기능"
   ]
  },
  {
   "cell_type": "code",
   "execution_count": 1,
   "id": "3c3183a5-40d6-4f73-b42c-f3867827175f",
   "metadata": {},
   "outputs": [
    {
     "name": "stdout",
     "output_type": "stream",
     "text": [
      "(1+2j)\n"
     ]
    }
   ],
   "source": [
    "number = 1 + 2j\n",
    "print(number)"
   ]
  },
  {
   "cell_type": "code",
   "execution_count": 2,
   "id": "1887e1da-dc81-4d4b-bade-34f424876c23",
   "metadata": {},
   "outputs": [
    {
     "name": "stdout",
     "output_type": "stream",
     "text": [
      "1.0\n",
      "2.0\n"
     ]
    }
   ],
   "source": [
    "print(number.real)\n",
    "print(number.imag)"
   ]
  },
  {
   "cell_type": "code",
   "execution_count": 5,
   "id": "92ec21df-df7c-4f5a-b70f-113c670362b7",
   "metadata": {},
   "outputs": [
    {
     "name": "stdout",
     "output_type": "stream",
     "text": [
      "<class 'complex'>\n"
     ]
    }
   ],
   "source": [
    "print(type(number))\n"
   ]
  },
  {
   "cell_type": "code",
   "execution_count": 6,
   "id": "8fe9c6db-2734-4e34-b766-26577041bea9",
   "metadata": {},
   "outputs": [
    {
     "name": "stdout",
     "output_type": "stream",
     "text": [
      "<class 'list'>\n"
     ]
    }
   ],
   "source": [
    "my_list = [1,2,3,4,5]\n",
    "print(type(my_list))\n",
    "my_list.sort()"
   ]
  },
  {
   "cell_type": "code",
   "execution_count": 7,
   "id": "718b8546-4abc-4f79-bc97-6216d6a28538",
   "metadata": {},
   "outputs": [],
   "source": [
    "power = False\n",
    "number = '010-1234-1234'\n",
    "book = {\n",
    "    '홍': '010-1111-1111',\n",
    "    '이': '010-2222-2222',\n",
    "}\n",
    "model = 'iPhone12'"
   ]
  },
  {
   "cell_type": "code",
   "execution_count": 8,
   "id": "c16ca34a-0a4b-4fec-935a-4d6e377c66de",
   "metadata": {},
   "outputs": [],
   "source": [
    "def on():\n",
    "    global power\n",
    "    if power == False:\n",
    "        power = True\n",
    "        print('핸드폰이 켜졌습니다.')"
   ]
  },
  {
   "cell_type": "code",
   "execution_count": 9,
   "id": "a2e33af0-4a76-4541-adac-6e027c81d255",
   "metadata": {},
   "outputs": [
    {
     "name": "stdout",
     "output_type": "stream",
     "text": [
      "핸드폰이 켜졌습니다.\n"
     ]
    }
   ],
   "source": [
    "on()"
   ]
  },
  {
   "cell_type": "markdown",
   "id": "707b89f1-fd45-4f2a-aaef-86e59160566a",
   "metadata": {},
   "source": [
    "## Class\n",
    "\n",
    "\n",
    "- 클래스 선언\n",
    "```python\n",
    "class ClassName:\n",
    "    attribute = value\n",
    "\n",
    "    def method_name(self):\n",
    "        code\n",
    "```\n",
    "\n",
    "- 인스턴스 화\n",
    "```python\n",
    "ClassName()\n",
    "```"
   ]
  },
  {
   "cell_type": "code",
   "execution_count": 10,
   "id": "6462cd1c-5dbc-4c29-ae87-4db6af28c2b0",
   "metadata": {},
   "outputs": [],
   "source": [
    "# 선언\n",
    "\n",
    "class MyClass:\n",
    "    name = 'kim'\n",
    "\n",
    "    def hello(self):\n",
    "        return 'hello'"
   ]
  },
  {
   "cell_type": "code",
   "execution_count": 13,
   "id": "e81f37d5-05e0-4aa4-a6a6-24bb4b4cd05d",
   "metadata": {},
   "outputs": [
    {
     "name": "stdout",
     "output_type": "stream",
     "text": [
      "kim\n",
      "hello\n",
      "kim\n",
      "hello\n"
     ]
    }
   ],
   "source": [
    "# 인스턴스화\n",
    "\n",
    "a = MyClass()\n",
    "\n",
    "print(a.name)\n",
    "print(a.hello())\n",
    "\n",
    "b = MyClass()\n",
    "\n",
    "print(b.name)\n",
    "print(b.hello())"
   ]
  },
  {
   "cell_type": "code",
   "execution_count": 22,
   "id": "696d24a0-020f-424f-862a-cac8b420178e",
   "metadata": {},
   "outputs": [],
   "source": [
    "class Phone:\n",
    "    power = False\n",
    "    number = '010-0000-0000'\n",
    "    book = {}\n",
    "    model = ''\n",
    "\n",
    "    def on(self):\n",
    "        if self.power == False:\n",
    "            self.power = True\n",
    "\n",
    "    def off(self):\n",
    "        if self.power == True:\n",
    "            self.power = False\n",
    "\n",
    "    def call(self, target):\n",
    "        if self.power == True:\n",
    "            print(f'내 번호는 {self.number}입니다.')\n",
    "            print(f'{target}번호로 전화거는중')\n",
    "        else:\n",
    "            print('핸드폰을 켜주세요')\n",
    "        "
   ]
  },
  {
   "cell_type": "code",
   "execution_count": 23,
   "id": "1798678e-c789-41f4-b5c5-8b13dd89c7e1",
   "metadata": {},
   "outputs": [],
   "source": [
    "my_phone = Phone()\n",
    "your_phone = Phone()"
   ]
  },
  {
   "cell_type": "code",
   "execution_count": 24,
   "id": "fc6f91a7-dba2-44db-b178-4e4fe6e9c5c5",
   "metadata": {},
   "outputs": [
    {
     "name": "stdout",
     "output_type": "stream",
     "text": [
      "010-1234-1234\n"
     ]
    }
   ],
   "source": [
    "my_phone.number = '010-1234-1234'\n",
    "print(my_phone.number)"
   ]
  },
  {
   "cell_type": "code",
   "execution_count": 25,
   "id": "3b8091f6-5237-4ad6-b807-e36db01d471f",
   "metadata": {},
   "outputs": [
    {
     "data": {
      "text/plain": [
       "'010-0000-0000'"
      ]
     },
     "execution_count": 25,
     "metadata": {},
     "output_type": "execute_result"
    }
   ],
   "source": [
    "your_phone.number"
   ]
  },
  {
   "cell_type": "code",
   "execution_count": 26,
   "id": "c05da6e0-29d9-4e36-85ad-cb6bd485376a",
   "metadata": {},
   "outputs": [
    {
     "data": {
      "text/plain": [
       "False"
      ]
     },
     "execution_count": 26,
     "metadata": {},
     "output_type": "execute_result"
    }
   ],
   "source": [
    "my_phone.power"
   ]
  },
  {
   "cell_type": "code",
   "execution_count": 27,
   "id": "9c0b5a97-cf6c-47f7-89e5-202e769055ff",
   "metadata": {},
   "outputs": [
    {
     "data": {
      "text/plain": [
       "True"
      ]
     },
     "execution_count": 27,
     "metadata": {},
     "output_type": "execute_result"
    }
   ],
   "source": [
    "my_phone.on()\n",
    "my_phone.power"
   ]
  },
  {
   "cell_type": "code",
   "execution_count": 28,
   "id": "4416d0d8-a32c-4ee4-bd8d-c01b21f0fa74",
   "metadata": {},
   "outputs": [
    {
     "name": "stdout",
     "output_type": "stream",
     "text": [
      "내 번호는 010-1234-1234입니다.\n",
      "112번호로 전화거는중\n"
     ]
    }
   ],
   "source": [
    "my_phone.call('112')"
   ]
  },
  {
   "cell_type": "code",
   "execution_count": 34,
   "id": "92bc1c65-ac35-4d46-9508-919e6d6f7a07",
   "metadata": {},
   "outputs": [],
   "source": [
    "# 연습\n",
    "\n",
    "class MyList:\n",
    "    data = []\n",
    "\n",
    "    def append(self, item):\n",
    "        self.data = self.data + [item]\n",
    "\n",
    "    # data의 제일 마지막 요소를 삭제하고, 삭제된 요소를 리턴\n",
    "    def pop(self):\n",
    "        num = self.data[-1]\n",
    "        self.data = self.data[:-1]\n",
    "        return num"
   ]
  },
  {
   "cell_type": "code",
   "execution_count": 38,
   "id": "bc99e4b0-ae6e-47ec-97f1-82eafab392e4",
   "metadata": {},
   "outputs": [
    {
     "name": "stdout",
     "output_type": "stream",
     "text": [
      "[]\n",
      "[5, 1, 10]\n",
      "10\n",
      "[5, 1]\n"
     ]
    }
   ],
   "source": [
    "list_a = MyList()\n",
    "print(list_a.data)\n",
    "\n",
    "list_a.append(5)\n",
    "list_a.append(1)\n",
    "list_a.append(10)\n",
    "print(list_a.data)\n",
    "\n",
    "print(list_a.pop())\n",
    "print(list_a.data)"
   ]
  },
  {
   "cell_type": "code",
   "execution_count": 36,
   "id": "7e565302-cbbb-4235-962a-622b06872f2d",
   "metadata": {},
   "outputs": [
    {
     "name": "stdout",
     "output_type": "stream",
     "text": [
      "[]\n",
      "[2, 4, 6]\n"
     ]
    }
   ],
   "source": [
    "list_b = MyList()\n",
    "print(list_b.data)\n",
    "\n",
    "list_b.append(2)\n",
    "list_b.append(4)\n",
    "list_b.append(6)\n",
    "print(list_b.data)"
   ]
  },
  {
   "cell_type": "code",
   "execution_count": 39,
   "id": "73431367-2f55-4c02-8032-4eff94daecb2",
   "metadata": {},
   "outputs": [
    {
     "data": {
      "text/plain": [
       "'kim'"
      ]
     },
     "execution_count": 39,
     "metadata": {},
     "output_type": "execute_result"
    }
   ],
   "source": [
    "# 정리\n",
    "\n",
    "class Person:  # => 클래스 정의(선언) : 클래스 객체 생성\n",
    "    name = 'kim' # => 속성(attribute) : 변수/값/데이터\n",
    "\n",
    "    def hello(self):  # => 행위(method) : 함수/기능\n",
    "        return self.name\n",
    "\n",
    "p = Person() # => 인스턴스화 / 인스턴스 객체를  생성\n",
    "p.name # => 속성을 호출\n",
    "p.hello() # => method를 실행"
   ]
  },
  {
   "cell_type": "code",
   "execution_count": 58,
   "id": "672a89cc-e971-43a1-bd9c-d9d6b1cad247",
   "metadata": {},
   "outputs": [],
   "source": [
    "class Fan:\n",
    "    power = True\n",
    "    heading = 'left'\n",
    "    speed = 'light'\n",
    "    reservation = 0\n",
    "\n",
    "    def on(self):\n",
    "        if self.power == False:\n",
    "            self.power = True\n",
    "\n",
    "    def off(self):\n",
    "        if self.power == True:\n",
    "            self.power = False\n",
    "\n",
    "    def turn(self):\n",
    "        if self.power == False:\n",
    "            print('전원을 켜십시오')\n",
    "            \n",
    "        if self.heading == 'left':\n",
    "            self.heaidng = 'right'\n",
    "        \n",
    "        else:\n",
    "            self.heading = 'left'\n",
    "            \n",
    "\n",
    "f = Fan()"
   ]
  },
  {
   "cell_type": "code",
   "execution_count": 59,
   "id": "b73e2b07-f775-446c-b854-97da14e9f291",
   "metadata": {},
   "outputs": [
    {
     "data": {
      "text/plain": [
       "True"
      ]
     },
     "execution_count": 59,
     "metadata": {},
     "output_type": "execute_result"
    }
   ],
   "source": [
    "f.on()\n",
    "f.power"
   ]
  },
  {
   "cell_type": "code",
   "execution_count": 60,
   "id": "1a637d6e-d8ed-4c2c-8a8e-5916a876b820",
   "metadata": {},
   "outputs": [
    {
     "data": {
      "text/plain": [
       "'left'"
      ]
     },
     "execution_count": 60,
     "metadata": {},
     "output_type": "execute_result"
    }
   ],
   "source": [
    "f.turn()\n",
    "f.heading"
   ]
  },
  {
   "cell_type": "code",
   "execution_count": 64,
   "id": "418b94cb-be91-4349-b92a-e19ff5146956",
   "metadata": {},
   "outputs": [
    {
     "name": "stdout",
     "output_type": "stream",
     "text": [
      "현재 상태는 약풍\n",
      "현재 상태는 중풍\n",
      "현재 상태는 강풍\n",
      "현재 상태는 꺼짐\n",
      "현재 상태는 약풍\n"
     ]
    }
   ],
   "source": [
    "# 쌤 버전\n",
    "\n",
    "class Fan:\n",
    "    power = ['꺼짐', '약풍', '중풍', '강풍']\n",
    "    status = 0\n",
    "\n",
    "    def button(self):\n",
    "        # self.status += 1\n",
    "        self.status = (self.status + 1) % 4\n",
    "        print(f'현재 상태는 {self.power[self.status]}')\n",
    "\n",
    "        \n",
    "            \n",
    "\n",
    "\n",
    "ff = Fan()\n",
    "\n",
    "ff.button()\n",
    "ff.button()\n",
    "ff.button()\n",
    "ff.button()\n",
    "ff.button()"
   ]
  },
  {
   "cell_type": "code",
   "execution_count": 65,
   "id": "9bffbd5c-cdf0-4234-90cd-462b157b16ad",
   "metadata": {},
   "outputs": [],
   "source": [
    "class Person():\n",
    "    name = ''\n",
    "\n",
    "    def hello(self):\n",
    "        print(f'나의 이름은 {self.name}입니다.')"
   ]
  },
  {
   "cell_type": "code",
   "execution_count": 67,
   "id": "72873929-ed06-4a9a-9275-ba3f8a1567b7",
   "metadata": {},
   "outputs": [
    {
     "name": "stdout",
     "output_type": "stream",
     "text": [
      "\n",
      "나의 이름은 입니다.\n",
      "나의 이름은 kim입니다.\n"
     ]
    }
   ],
   "source": [
    "p = Person()\n",
    "print(p.name)\n",
    "p.hello()\n",
    "p.name = 'kim'\n",
    "p.hello()"
   ]
  },
  {
   "cell_type": "code",
   "execution_count": 68,
   "id": "837dbe17-e0be-4d38-9fa8-192fb291e00a",
   "metadata": {},
   "outputs": [],
   "source": [
    "# self : 인스턴스 객체 자기자신\n",
    "# - 특별한 상황을 제외하고는 무조건 method의 첫번째 인자로 설정한다.\n",
    "# - 인스턴스 method 실행할 때 자동으로 첫번째 인자에 인스턴스를 할당한다."
   ]
  },
  {
   "cell_type": "code",
   "execution_count": 69,
   "id": "c229d7a5-e68e-4ce3-a0a9-212fc035d2c2",
   "metadata": {},
   "outputs": [
    {
     "name": "stdout",
     "output_type": "stream",
     "text": [
      "나의 이름은 입니다.\n",
      "나의 이름은 입니다.\n"
     ]
    }
   ],
   "source": [
    "p1 = Person()\n",
    "# self 매개변수 자리에 p1 이라고 하는 인스턴스 객체가 인자로 전달\n",
    "p1.hello()\n",
    "# p1 인스턴스 객체에서부터 method가 실행되기 때문에 self == p1\n",
    "Person.hello(p1)"
   ]
  },
  {
   "cell_type": "markdown",
   "id": "bd860044-d852-4a6b-a817-743e351df8cf",
   "metadata": {},
   "source": [
    "## 생성자, 소멸자\n",
    "\n",
    "```python\n",
    "class MyClass:\n",
    "    def __init__(self):\n",
    "        pass\n",
    "        \n",
    "    def __del__(self):\n",
    "        pass\n",
    "```"
   ]
  },
  {
   "cell_type": "code",
   "execution_count": 88,
   "id": "21f9644d-7f91-4486-a7ca-c8e1e2496f06",
   "metadata": {},
   "outputs": [],
   "source": [
    "class Person:\n",
    "    name = 'noname'\n",
    "\n",
    "    def __init__(self, name='익명'):\n",
    "        self.name = name\n",
    "        print('생성됨')\n",
    "\n",
    "    def __del__(self):\n",
    "        print('소멸됨')"
   ]
  },
  {
   "cell_type": "code",
   "execution_count": 89,
   "id": "67825024-c008-4dcb-94d9-6c7e647ee108",
   "metadata": {},
   "outputs": [
    {
     "name": "stdout",
     "output_type": "stream",
     "text": [
      "생성됨\n",
      "소멸됨\n",
      "yeju\n"
     ]
    }
   ],
   "source": [
    "p1 = Person()\n",
    "p1.name = 'yeju'\n",
    "print(p1.name)"
   ]
  },
  {
   "cell_type": "code",
   "execution_count": 90,
   "id": "dfaee885-7dca-4b09-9cf2-918a0192016d",
   "metadata": {},
   "outputs": [
    {
     "name": "stdout",
     "output_type": "stream",
     "text": [
      "생성됨\n",
      "소멸됨\n",
      "yeju\n"
     ]
    }
   ],
   "source": [
    "p2 = Person('yeju')\n",
    "print(p2.name)"
   ]
  },
  {
   "cell_type": "code",
   "execution_count": 100,
   "id": "0908270b-92ea-4c56-a1c5-f9107b596903",
   "metadata": {},
   "outputs": [],
   "source": [
    "# Circle 클래스\n",
    "\n",
    "class Circle:\n",
    "    pi = 3.14\n",
    "\n",
    "    def __init__(self, r, x=0, y=0):\n",
    "        self.r = r\n",
    "        self.x = x\n",
    "        self.y = y\n",
    "\n",
    "    def area(self):\n",
    "        return self.pi * self.r ** 2\n",
    "\n",
    "    def move(self, x, y):\n",
    "        self.x = x\n",
    "        self.y = y\n",
    "        print(f'원의 중심이 {x},{y}로 이동')\n",
    "\n",
    "    def center(self):\n",
    "        # 원의 중심을 (x,y)로 반환\n",
    "        return (self.x, self.y)"
   ]
  },
  {
   "cell_type": "code",
   "execution_count": 101,
   "id": "12f28d2f-0440-4d31-ae1b-ceb922a8a239",
   "metadata": {},
   "outputs": [
    {
     "name": "stdout",
     "output_type": "stream",
     "text": [
      "5\n",
      "3\n",
      "28.26\n",
      "원의 중심이 -3,-3로 이동\n",
      "(-3, -3)\n",
      "0\n",
      "10\n",
      "314.0\n",
      "원의 중심이 10,10로 이동\n",
      "(10, 10)\n"
     ]
    }
   ],
   "source": [
    "c1 = Circle(3, 5, 5)\n",
    "print(c1.x)\n",
    "print(c1.r)\n",
    "print(c1.area())\n",
    "c1.move(-3, -3)\n",
    "print(c1.center())\n",
    "\n",
    "c2 = Circle(10)\n",
    "print(c2.x)\n",
    "print(c2.r)\n",
    "print(c2.area())\n",
    "c2.move(10,10)\n",
    "print(c2.center())"
   ]
  },
  {
   "cell_type": "markdown",
   "id": "35eef7e4-beac-45bb-870f-e7d0935e57b5",
   "metadata": {},
   "source": [
    "### 클래스변수\n",
    "- 클래스 선언 블록 최상단에 위치\n",
    "\n",
    "### 인스턴스변수\n",
    "- 인스턴스 내부에서 생성한 변수 (self.variable = )\n",
    "\n",
    "```python\n",
    "class TestClass:\n",
    "    class_variable = '클래스변수'\n",
    "\n",
    "    def __init__(self, arg):\n",
    "        self.instance_variable = '인스턴스변수'\n",
    "\n",
    "    def status(self):\n",
    "        return self.instance_variable\n",
    "```"
   ]
  },
  {
   "cell_type": "code",
   "execution_count": 105,
   "id": "a817d1ce-368e-4f0b-b850-bcdb833ce2e7",
   "metadata": {},
   "outputs": [],
   "source": [
    "class Person:\n",
    "    name = '홍길동'\n",
    "    phone = '010-1234-1234'\n",
    "\n",
    "    def __init__(self, name):\n",
    "        self.name = name"
   ]
  },
  {
   "cell_type": "code",
   "execution_count": 106,
   "id": "e7559dab-a5c1-4dd0-be6f-b1436a126c55",
   "metadata": {},
   "outputs": [
    {
     "name": "stdout",
     "output_type": "stream",
     "text": [
      "홍길동\n",
      "예주\n",
      "010-1234-1234\n"
     ]
    }
   ],
   "source": [
    "p = Person('예주')\n",
    "\n",
    "print(Person.name)\n",
    "print(p.name)\n",
    "\n",
    "print(p.phone)"
   ]
  },
  {
   "cell_type": "markdown",
   "id": "1ef855be-f7b1-4123-b7c7-02b3400f4472",
   "metadata": {},
   "source": [
    "### 클래스 method, 인스턴스 method, 스태틱 method\n",
    "\n",
    "```python\n",
    "class MyClass:\n",
    "    def instance_method(self):\n",
    "        pass\n",
    "\n",
    "    @classmethod\n",
    "    def class_method(cls):\n",
    "        pass\n",
    "\n",
    "    @staticmethod\n",
    "    def static_method():\n",
    "        pass\n",
    "```"
   ]
  },
  {
   "cell_type": "code",
   "execution_count": 107,
   "id": "fe7a1acf-d5a2-4dfa-a289-0125790b7c39",
   "metadata": {},
   "outputs": [],
   "source": [
    "class MyClass:\n",
    "    def instance_method(self):\n",
    "        return self\n",
    "\n",
    "    @classmethod\n",
    "    def class_method(cls):\n",
    "        return cls\n",
    "\n",
    "    @staticmethod\n",
    "    def static_method():\n",
    "        return 'hello'"
   ]
  },
  {
   "cell_type": "code",
   "execution_count": 112,
   "id": "a70ffaae-f71d-467c-a9e1-d85e8f5902f8",
   "metadata": {},
   "outputs": [
    {
     "name": "stdout",
     "output_type": "stream",
     "text": [
      "<__main__.MyClass object at 0x11235c350>\n",
      "<class '__main__.MyClass'>\n",
      "<class '__main__.MyClass'>\n",
      "hello\n"
     ]
    }
   ],
   "source": [
    "c1 = MyClass()\n",
    "\n",
    "print(c1.instance_method())\n",
    "print(MyClass.class_method())\n",
    "print(c1.class_method())\n",
    "print(c1.static_method())"
   ]
  },
  {
   "cell_type": "code",
   "execution_count": 127,
   "id": "f8b2b9e0-b2e8-48a0-805f-4067926804db",
   "metadata": {},
   "outputs": [],
   "source": [
    "class Puppy:\n",
    "    num_of_puppy = 0\n",
    "\n",
    "    def __init__(self, name):\n",
    "        self.name = name\n",
    "        Puppy.num_of_puppy += 1\n",
    "\n",
    "    @classmethod\n",
    "    def get_status(cls):\n",
    "        return f'현재 강아지는 {cls.num_of_puppy}마리 입니다.'\n",
    "\n",
    "    @staticmethod\n",
    "    def bark(string='멍멍'):\n",
    "        return string"
   ]
  },
  {
   "cell_type": "code",
   "execution_count": 129,
   "id": "56747d73-47d9-4b3b-a739-38f884637fe7",
   "metadata": {},
   "outputs": [
    {
     "name": "stdout",
     "output_type": "stream",
     "text": [
      "6\n",
      "현재 강아지는 6마리 입니다.\n",
      "멍멍\n",
      "그르릉\n"
     ]
    }
   ],
   "source": [
    "p1 = Puppy('또또')\n",
    "p2 = Puppy('몽이')\n",
    "p3 = Puppy('흰둥이')\n",
    "\n",
    "print(p3.num_of_puppy)\n",
    "\n",
    "print(Puppy.get_status())\n",
    "\n",
    "print(p1.bark())\n",
    "print(p2.bark('그르릉'))"
   ]
  },
  {
   "cell_type": "markdown",
   "id": "4b69e7fb-763e-4ff3-a72e-e43eda56f006",
   "metadata": {},
   "source": [
    "## 정리\n",
    "```\n",
    "class\n",
    "    - attribute (variable, data)\n",
    "        - instance_variable\n",
    "        - class_variable\n",
    "    - method\n",
    "        - instance_method\n",
    "        - class_method\n",
    "        - static_method\n",
    "```"
   ]
  },
  {
   "cell_type": "markdown",
   "id": "f112dd5d-2137-49f5-bbd3-6148fc7cc24e",
   "metadata": {},
   "source": [
    "## 상속"
   ]
  },
  {
   "cell_type": "code",
   "execution_count": 132,
   "id": "c44ea429-6aeb-4b9a-b959-dfa715d437b0",
   "metadata": {},
   "outputs": [],
   "source": [
    "class Person:\n",
    "\n",
    "    def __init__(self, name):\n",
    "        self.name = name\n",
    "\n",
    "    def greeting(self):\n",
    "        print(f'안녕하세요 {self.name}입니다.')"
   ]
  },
  {
   "cell_type": "code",
   "execution_count": 134,
   "id": "833e8552-f47f-4f60-aae7-8f2bc007d851",
   "metadata": {},
   "outputs": [
    {
     "name": "stdout",
     "output_type": "stream",
     "text": [
      "안녕하세요 홍길동입니다.\n"
     ]
    }
   ],
   "source": [
    "p1 = Person('홍길동')\n",
    "p2 = Person('이순신')\n",
    "\n",
    "p1.greeting()"
   ]
  },
  {
   "cell_type": "code",
   "execution_count": 137,
   "id": "ce3c0385-fe3c-40ef-85a3-c0c4fae932cb",
   "metadata": {},
   "outputs": [],
   "source": [
    "class Student(Person):\n",
    "    def __init__(self, name, student_id):\n",
    "        self.name = name\n",
    "        self.student_id = student_id\n",
    "    "
   ]
  },
  {
   "cell_type": "code",
   "execution_count": 139,
   "id": "82ce8928-377d-4f4b-8cf9-2f9d9f63bbe5",
   "metadata": {},
   "outputs": [
    {
     "name": "stdout",
     "output_type": "stream",
     "text": [
      "안녕하세요 kim입니다.\n",
      "12345\n"
     ]
    }
   ],
   "source": [
    "s1 = Student('kim', 12345)\n",
    "s2 = Student('park', 98765)\n",
    "\n",
    "s1.greeting()\n",
    "print(s1.student_id)"
   ]
  },
  {
   "cell_type": "code",
   "execution_count": 140,
   "id": "637c1353-93b5-4b8b-b212-95c00e9bbf11",
   "metadata": {},
   "outputs": [],
   "source": [
    "class Soldier(Person):\n",
    "    def greeting(self):\n",
    "        return f'충성! {self.name}입니다!'"
   ]
  },
  {
   "cell_type": "code",
   "execution_count": 141,
   "id": "f5104d13-461b-4352-93a6-1cda44918039",
   "metadata": {},
   "outputs": [
    {
     "data": {
      "text/plain": [
       "'충성! 한호열입니다!'"
      ]
     },
     "execution_count": 141,
     "metadata": {},
     "output_type": "execute_result"
    }
   ],
   "source": [
    "s1 = Soldier('한호열')\n",
    "s1.greeting()"
   ]
  },
  {
   "cell_type": "code",
   "execution_count": 142,
   "id": "af731efa-5e19-43e8-a87d-21540a8bdb56",
   "metadata": {},
   "outputs": [],
   "source": [
    "class Person:\n",
    "    def __init__(self, email, phone, location, name):\n",
    "        self.email = email\n",
    "        self.phone = phone\n",
    "        self.location = location\n",
    "        self.name = name\n",
    "\n",
    "class Student(Person):\n",
    "    def __init__(self, email, phone, location, name, student_id):\n",
    "        self.email = email\n",
    "        self.phone = phone\n",
    "        self.location = location\n",
    "        self.name = name\n",
    "        self.student_id = student_id\n",
    "\n",
    "class Soldier(Person):\n",
    "    def __init__(self, email, phone, location, name, soldier_id):\n",
    "        # super() => 부모클래스(Person)\n",
    "        super().__init__(email, phone, location, name)\n",
    "        self.soldier_id = soldier_id"
   ]
  },
  {
   "cell_type": "code",
   "execution_count": 144,
   "id": "d929f820-51b6-4510-97c1-487152a9b4b0",
   "metadata": {},
   "outputs": [
    {
     "name": "stdout",
     "output_type": "stream",
     "text": [
      "kim\n",
      "12345\n"
     ]
    }
   ],
   "source": [
    "s1 = Soldier('email@email.com', '010-1234', 'seoul', 'kim', '12345')\n",
    "print(s1.name)\n",
    "print(s1.soldier_id)"
   ]
  },
  {
   "cell_type": "code",
   "execution_count": 145,
   "id": "8e30aae8-6ad6-4532-b6b0-ff126f8d04d7",
   "metadata": {},
   "outputs": [],
   "source": [
    "class Person:\n",
    "    def __init__(self, name):\n",
    "        self.name = name\n",
    "\n",
    "    def breath(self):\n",
    "        print('후하')"
   ]
  },
  {
   "cell_type": "code",
   "execution_count": 146,
   "id": "d7eed87b-8148-4a18-80ce-51b3ed6525da",
   "metadata": {},
   "outputs": [],
   "source": [
    "class Mom(Person):\n",
    "    gene = 'xx'\n",
    "\n",
    "    def swim(self):\n",
    "        print('어푸어푸')"
   ]
  },
  {
   "cell_type": "code",
   "execution_count": 147,
   "id": "26f4ac9f-d5d1-43d3-95f4-02230ef54c39",
   "metadata": {},
   "outputs": [],
   "source": [
    "class Dad(Person):\n",
    "    gene = 'xy'\n",
    "\n",
    "    def run(self):\n",
    "        print('다다다')"
   ]
  },
  {
   "cell_type": "code",
   "execution_count": 157,
   "id": "6d9c100d-695b-4d1e-8da0-eeae76142e07",
   "metadata": {},
   "outputs": [],
   "source": [
    "class Baby(Dad, Mom):\n",
    "  \n",
    "    pass"
   ]
  },
  {
   "cell_type": "code",
   "execution_count": 158,
   "id": "64b478c4-7630-4845-8319-5dc70876606a",
   "metadata": {},
   "outputs": [
    {
     "name": "stdout",
     "output_type": "stream",
     "text": [
      "후하\n",
      "어푸어푸\n",
      "다다다\n",
      "xy\n"
     ]
    }
   ],
   "source": [
    "b = Baby('금쪽이')\n",
    "b.breath()\n",
    "b.swim()\n",
    "b.run()\n",
    "\n",
    "# 다중상속을 한 경우, 먼저 상속받은 데이터/method가 우선\n",
    "print(b.gene)"
   ]
  },
  {
   "cell_type": "code",
   "execution_count": 338,
   "id": "1e88b970-b5f2-4915-9582-519758e23fd5",
   "metadata": {},
   "outputs": [],
   "source": [
    "class Pocketmon:\n",
    "    def __init__(self):\n",
    "        self.name = ''\n",
    "        self.hp = 0\n",
    "        self.exp = 0\n",
    "        self.lv = 1\n",
    "\n",
    "    def training(self):\n",
    "        print(f'{self.name}은 훈련중')\n",
    "\n",
    "    def sleeping(self):\n",
    "        print(f'{self.name}은 휴식중')\n",
    "\n",
    "    def level(self):\n",
    "        return self.lv\n",
    "\n",
    "    def status(self):\n",
    "        print(f'{self.name}의 상태정보')\n",
    "        print(f'HP : {self.hp}')\n",
    "        print(f'EXP : {self.exp}')\n",
    "        print(f'LV : {self.lv}')\n",
    "\n",
    "class Pikachu(Pocketmon):\n",
    "    def __init__(self):\n",
    "        super().__init__()\n",
    "        self.name = '피카츄'\n",
    "        self.hp = 100\n",
    "\n",
    "    def training(self):\n",
    "        self.hp -= 10\n",
    "        self.exp += 5\n",
    "\n",
    "    def sleeping(self):\n",
    "        self.hp += 10\n",
    "\n",
    "    def level(self):\n",
    "        if self.exp > 10:\n",
    "            self.lv += self.exp//10\n",
    "            self.exp = self.exp%10\n",
    "            print(f'{self.name} 레벨업!')\n",
    "            print(f'Level : {self.lv}')\n",
    "\n",
    "    def skill(self):\n",
    "        print('피카츄 백만볼트 삐까삐까')"
   ]
  },
  {
   "cell_type": "code",
   "execution_count": 334,
   "id": "6d673322-cdc7-4c26-8e0f-18dc51531979",
   "metadata": {},
   "outputs": [
    {
     "name": "stdout",
     "output_type": "stream",
     "text": [
      "피카츄의 상태정보\n",
      "HP : 100\n",
      "EXP : 0\n",
      "LV : 1\n"
     ]
    }
   ],
   "source": [
    "p = Pikachu()\n",
    "p.status()"
   ]
  },
  {
   "cell_type": "code",
   "execution_count": 335,
   "id": "66ea3116-e25e-45d1-bd61-22699727cc00",
   "metadata": {},
   "outputs": [],
   "source": [
    "p.training()\n",
    "p.sleeping()"
   ]
  },
  {
   "cell_type": "code",
   "execution_count": 336,
   "id": "f85f78c0-15e9-429c-9179-64ad6b59e7e2",
   "metadata": {},
   "outputs": [],
   "source": [
    "p.level()"
   ]
  },
  {
   "cell_type": "code",
   "execution_count": 337,
   "id": "5819879d-d330-4b20-bbdd-3e30755361cc",
   "metadata": {},
   "outputs": [
    {
     "name": "stdout",
     "output_type": "stream",
     "text": [
      "피카츄의 상태정보\n",
      "HP : 100\n",
      "EXP : 5\n",
      "LV : 1\n"
     ]
    }
   ],
   "source": [
    "p.status()"
   ]
  },
  {
   "cell_type": "code",
   "execution_count": null,
   "id": "3cc70f68-a1e3-48b0-85ad-001d0fe757bd",
   "metadata": {},
   "outputs": [],
   "source": []
  }
 ],
 "metadata": {
  "kernelspec": {
   "display_name": "Python 3 (ipykernel)",
   "language": "python",
   "name": "python3"
  },
  "language_info": {
   "codemirror_mode": {
    "name": "ipython",
    "version": 3
   },
   "file_extension": ".py",
   "mimetype": "text/x-python",
   "name": "python",
   "nbconvert_exporter": "python",
   "pygments_lexer": "ipython3",
   "version": "3.11.4"
  }
 },
 "nbformat": 4,
 "nbformat_minor": 5
}
